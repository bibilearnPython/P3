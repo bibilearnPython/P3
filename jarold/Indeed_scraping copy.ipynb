{
 "cells": [
  {
   "cell_type": "markdown",
   "metadata": {},
   "source": [
    "# BeautifulSoup est moins efficace que Selenium pour les siteweb chargé dynamiquement avec javascript"
   ]
  },
  {
   "cell_type": "code",
   "execution_count": 2,
   "metadata": {},
   "outputs": [],
   "source": [
    "import requests\n",
    "from random import choice\n",
    "import pandas as pd\n",
    "from bs4 import BeautifulSoup"
   ]
  },
  {
   "cell_type": "code",
   "execution_count": 3,
   "metadata": {},
   "outputs": [
    {
     "name": "stderr",
     "output_type": "stream",
     "text": [
      "/Users/jaroldmartinez/miniconda3/lib/python3.11/site-packages/urllib3/connectionpool.py:1061: InsecureRequestWarning: Unverified HTTPS request is being made to host 'fr.indeed.com'. Adding certificate verification is strongly advised. See: https://urllib3.readthedocs.io/en/1.26.x/advanced-usage.html#ssl-warnings\n",
      "  warnings.warn(\n"
     ]
    },
    {
     "data": {
      "text/plain": [
       "<Response [403]>"
      ]
     },
     "execution_count": 3,
     "metadata": {},
     "output_type": "execute_result"
    }
   ],
   "source": [
    "# url pour recherche data analayst en france ( indeed )\n",
    "\n",
    "navigator = 'Mozilla/5.0 (Macintosh; Intel Mac OS X 10_11_6) AppleWebKit/601.7.7 (KHTML, like Gecko) Version/9.1.2 Safari/601.7.7'\n",
    "navigator_2 = 'Mozilla/5.0 (Macintosh; Intel Mac OS X 10_12_6) AppleWebKit/602.3.12 (KHTML, like Gecko) Version/10.0.3 Safari/602.3.12'\n",
    "navigator_3 = \"Mozilla/5.0 (Macintosh; Intel Mac OS X 10_14_6) AppleWebKit/605.1.15 (KHTML, like Gecko) Version/12.1.2 Safari/605.1.15\"\n",
    "\n",
    "url = 'https://fr.indeed.com/jobs?q=data+analyst&l=France&from=searchOnHP&vjk=92299a55e6559717'\n",
    "\n",
    "headers = {\n",
    "    \"User-Agent\": navigator}\n",
    "\n",
    "response = requests.get(url, headers = headers, verify = False)\n",
    "response\n",
    "\n",
    "# soup = BeautifulSoup(response.text)\n",
    "\n",
    "# job_page = soup.findAll(class_='css-5lfssm eu4oa1w0')\n",
    "\n",
    "\n",
    "# list_of_links=[]\n",
    "# for job in job_page:\n",
    "#     j = job.find_all(class_='jcs-JobTitle css-jspxzf eu4oa1w0')\n",
    "#     for a in j:\n",
    "#         list_of_links.append(a['href'])\n",
    "        \n"
   ]
  },
  {
   "cell_type": "code",
   "execution_count": 4,
   "metadata": {},
   "outputs": [
    {
     "data": {
      "text/plain": [
       "<Response [403]>"
      ]
     },
     "execution_count": 4,
     "metadata": {},
     "output_type": "execute_result"
    }
   ],
   "source": [
    "user_agents = [\n",
    "    'Mozilla/5.0 (Windows NT 10.0; Win64; x64) AppleWebKit/537.36 (KHTML, like Gecko) Chrome/58.0.3029.110 Safari/537.3',\n",
    "    'Mozilla/5.0 (Macintosh; Intel Mac OS X 10_13_6) AppleWebKit/605.1.15 (KHTML, like Gecko) Version/12.1.2 Safari/605.1.15',\n",
    "    'Mozilla/5.0 (X11; Ubuntu; Linux x86_64; rv:64.0) Gecko/20100101 Firefox/64.0'\n",
    "]\n",
    "\n",
    "url = 'https://fr.indeed.com/jobs?q=data+analyst&l=France&from=searchOnHP&vjk=92299a55e6559717'\n",
    "headers = {'User-Agent': choice(user_agents)}\n",
    "\n",
    "response = requests.get(url, headers=headers)\n",
    "response"
   ]
  },
  {
   "cell_type": "code",
   "execution_count": 5,
   "metadata": {},
   "outputs": [
    {
     "ename": "NameError",
     "evalue": "name 'list_of_links' is not defined",
     "output_type": "error",
     "traceback": [
      "\u001b[0;31m---------------------------------------------------------------------------\u001b[0m",
      "\u001b[0;31mNameError\u001b[0m                                 Traceback (most recent call last)",
      "Cell \u001b[0;32mIn[5], line 1\u001b[0m\n\u001b[0;32m----> 1\u001b[0m \u001b[43mlist_of_links\u001b[49m\n",
      "\u001b[0;31mNameError\u001b[0m: name 'list_of_links' is not defined"
     ]
    }
   ],
   "source": [
    "list_of_links"
   ]
  },
  {
   "cell_type": "markdown",
   "metadata": {},
   "source": [
    "#prettyprint"
   ]
  },
  {
   "cell_type": "markdown",
   "metadata": {},
   "source": [
    "# retreiving information for 1 page"
   ]
  },
  {
   "cell_type": "code",
   "execution_count": null,
   "metadata": {},
   "outputs": [
    {
     "name": "stderr",
     "output_type": "stream",
     "text": [
      "/Users/jaroldmartinez/miniconda3/lib/python3.11/site-packages/urllib3/connectionpool.py:1061: InsecureRequestWarning: Unverified HTTPS request is being made to host 'fr.indeed.com'. Adding certificate verification is strongly advised. See: https://urllib3.readthedocs.io/en/1.26.x/advanced-usage.html#ssl-warnings\n",
      "  warnings.warn(\n"
     ]
    },
    {
     "data": {
      "text/plain": [
       "'https://fr.indeed.com/pagead/clk?mo=r&ad=-6NYlbfkN0C3XH7KOyMOW-Q9vL-TbrDy6iUCELLygkx8IRJn1tuDcyo-cgnDVJzbCEHAYLLLFhC9omTaJBcy7GoeEMnqAMvaAI6MAOyx6m5BPZ0olHRtV1PCHs5VKTHMpz2mtLl75Cym8CmlSxQyN6u-e1N7p8MnmD7N-wALFeVXTGz6INxOcKDNlcowo5qY5mMQ2w04uIRVA3oVRTUvWeyJ4wxD209L0td2TrC81jOg4ryUOs5l55zYW9LnYXGX-uEAb6ASpvlPuGyxG2bgBjuJflKIGlEYpXgBnvLdEbNRg1IdMov3WDSs1cs0j-e0yXK5XIZS6FmWlkcxl5Rgte5GzF8m4MYhs2welz3KffLtGT4cfPCv_JZb_Ri2hxPcfJGYjP3bhDqWZRtjjwn3CA9N7_tp9UA2qAiaIoGz-j38f3Ni9r7PeyubNjKdaROCbUQqG9YJge9A4lpOK4Z1h48vYGndhwUYDJOSYUyaol02IPjOmEL0Fpnj6-yH-y4vIjkTU4eX9HAfhgOFiFbW5TNK6Oc6LK4cKEcpFxourabbjX1bad8R4j04CnSpkV-z9sqASX7dstUv-qxwfbVay6iMCWj1_6v0Lx5_XIpmGJg06wr7KqwhiddWUDAXi6WWCGnY2kL5u0B4Aa3PhuXnDd-rHHQ45mIXKZZkT0cWrMJA4JMA73-7lwjcnBAgQjFtIdrjPpwk1XojAhuayq6DpvOl-XOYCh1LyR_xcAz_JiM=&xkcb=SoAP6_M3AvekYoynQ50PbzkdCdPP&camk=xqnMBGaf-K9SVL4gPF_6wQ==&p=0&fvj=0&vjs=3'"
      ]
     },
     "execution_count": 183,
     "metadata": {},
     "output_type": "execute_result"
    }
   ],
   "source": [
    "url = 'https://fr.indeed.com' + list_of_links[0]\n",
    "\n",
    "response = requests.get(url,headers = headers,verify=False)\n",
    "url\n"
   ]
  },
  {
   "cell_type": "markdown",
   "metadata": {},
   "source": [
    "## liste des info à scraper :\n",
    "- intitulé du poste\n",
    "- entreprise\n",
    "- localisation du poste \n",
    "- type de contrat \n",
    "- compétences \n",
    "- formation\n",
    "- description \n",
    "\n",
    "\n",
    "\n"
   ]
  },
  {
   "cell_type": "code",
   "execution_count": null,
   "metadata": {},
   "outputs": [
    {
     "data": {
      "text/plain": [
       "<!DOCTYPE html>\n",
       "<html lang=\"en-US\"><head><title>Just a moment...</title><meta content=\"text/html; charset=utf-8\" http-equiv=\"Content-Type\"/><meta content=\"IE=Edge\" http-equiv=\"X-UA-Compatible\"/><meta content=\"noindex,nofollow\" name=\"robots\"/><meta content=\"width=device-width,initial-scale=1\" name=\"viewport\"/><style>*{box-sizing:border-box;margin:0;padding:0}html{line-height:1.15;-webkit-text-size-adjust:100%;color:#313131}button,html{font-family:system-ui,-apple-system,BlinkMacSystemFont,Segoe UI,Roboto,Helvetica Neue,Arial,Noto Sans,sans-serif,Apple Color Emoji,Segoe UI Emoji,Segoe UI Symbol,Noto Color Emoji}@media (prefers-color-scheme:dark){body{background-color:#222;color:#d9d9d9}body a{color:#fff}body a:hover{color:#ee730a;text-decoration:underline}body .lds-ring div{border-color:#999 transparent transparent}body .font-red{color:#b20f03}body .pow-button{background-color:#4693ff;color:#1d1d1d}body #challenge-success-text{background-image:url(data:image/svg+xml;base64,PHN2ZyB4bWxucz0iaHR0cDovL3d3dy53My5vcmcvMjAwMC9zdmciIHdpZHRoPSIzMiIgaGVpZ2h0PSIzMiIgZmlsbD0ibm9uZSIgdmlld0JveD0iMCAwIDI2IDI2Ij48cGF0aCBmaWxsPSIjZDlkOWQ5IiBkPSJNMTMgMGExMyAxMyAwIDEgMCAwIDI2IDEzIDEzIDAgMCAwIDAtMjZtMCAyNGExMSAxMSAwIDEgMSAwLTIyIDExIDExIDAgMCAxIDAgMjIiLz48cGF0aCBmaWxsPSIjZDlkOWQ5IiBkPSJtMTAuOTU1IDE2LjA1NS0zLjk1LTQuMTI1LTEuNDQ1IDEuMzg1IDUuMzcgNS42MSA5LjQ5NS05LjYtMS40Mi0xLjQwNXoiLz48L3N2Zz4=)}body #challenge-error-text{background-image:url(data:image/svg+xml;base64,PHN2ZyB4bWxucz0iaHR0cDovL3d3dy53My5vcmcvMjAwMC9zdmciIHdpZHRoPSIzMiIgaGVpZ2h0PSIzMiIgZmlsbD0ibm9uZSI+PHBhdGggZmlsbD0iI0IyMEYwMyIgZD0iTTE2IDNhMTMgMTMgMCAxIDAgMTMgMTNBMTMuMDE1IDEzLjAxNSAwIDAgMCAxNiAzbTAgMjRhMTEgMTEgMCAxIDEgMTEtMTEgMTEuMDEgMTEuMDEgMCAwIDEtMTEgMTEiLz48cGF0aCBmaWxsPSIjQjIwRjAzIiBkPSJNMTcuMDM4IDE4LjYxNUgxNC44N0wxNC41NjMgOS41aDIuNzgzem0tMS4wODQgMS40MjdxLjY2IDAgMS4wNTcuMzg4LjQwNy4zODkuNDA3Ljk5NCAwIC41OTYtLjQwNy45ODQtLjM5Ny4zOS0xLjA1Ny4zODktLjY1IDAtMS4wNTYtLjM4OS0uMzk4LS4zODktLjM5OC0uOTg0IDAtLjU5Ny4zOTgtLjk4NS40MDYtLjM5NyAxLjA1Ni0uMzk3Ii8+PC9zdmc+)}}body{display:flex;flex-direction:column;min-height:100vh}body.no-js .loading-spinner{visibility:hidden}body.no-js .challenge-running{display:none}body.dark{background-color:#222;color:#d9d9d9}body.dark a{color:#fff}body.dark a:hover{color:#ee730a;text-decoration:underline}body.dark .lds-ring div{border-color:#999 transparent transparent}body.dark .font-red{color:#b20f03}body.dark .pow-button{background-color:#4693ff;color:#1d1d1d}body.dark #challenge-success-text{background-image:url(data:image/svg+xml;base64,PHN2ZyB4bWxucz0iaHR0cDovL3d3dy53My5vcmcvMjAwMC9zdmciIHdpZHRoPSIzMiIgaGVpZ2h0PSIzMiIgZmlsbD0ibm9uZSIgdmlld0JveD0iMCAwIDI2IDI2Ij48cGF0aCBmaWxsPSIjZDlkOWQ5IiBkPSJNMTMgMGExMyAxMyAwIDEgMCAwIDI2IDEzIDEzIDAgMCAwIDAtMjZtMCAyNGExMSAxMSAwIDEgMSAwLTIyIDExIDExIDAgMCAxIDAgMjIiLz48cGF0aCBmaWxsPSIjZDlkOWQ5IiBkPSJtMTAuOTU1IDE2LjA1NS0zLjk1LTQuMTI1LTEuNDQ1IDEuMzg1IDUuMzcgNS42MSA5LjQ5NS05LjYtMS40Mi0xLjQwNXoiLz48L3N2Zz4=)}body.dark #challenge-error-text{background-image:url(data:image/svg+xml;base64,PHN2ZyB4bWxucz0iaHR0cDovL3d3dy53My5vcmcvMjAwMC9zdmciIHdpZHRoPSIzMiIgaGVpZ2h0PSIzMiIgZmlsbD0ibm9uZSI+PHBhdGggZmlsbD0iI0IyMEYwMyIgZD0iTTE2IDNhMTMgMTMgMCAxIDAgMTMgMTNBMTMuMDE1IDEzLjAxNSAwIDAgMCAxNiAzbTAgMjRhMTEgMTEgMCAxIDEgMTEtMTEgMTEuMDEgMTEuMDEgMCAwIDEtMTEgMTEiLz48cGF0aCBmaWxsPSIjQjIwRjAzIiBkPSJNMTcuMDM4IDE4LjYxNUgxNC44N0wxNC41NjMgOS41aDIuNzgzem0tMS4wODQgMS40MjdxLjY2IDAgMS4wNTcuMzg4LjQwNy4zODkuNDA3Ljk5NCAwIC41OTYtLjQwNy45ODQtLjM5Ny4zOS0xLjA1Ny4zODktLjY1IDAtMS4wNTYtLjM4OS0uMzk4LS4zODktLjM5OC0uOTg0IDAtLjU5Ny4zOTgtLjk4NS40MDYtLjM5NyAxLjA1Ni0uMzk3Ii8+PC9zdmc+)}body.light{background-color:transparent;color:#313131}body.light a{color:#0051c3}body.light a:hover{color:#ee730a;text-decoration:underline}body.light .lds-ring div{border-color:#595959 transparent transparent}body.light .font-red{color:#fc574a}body.light .pow-button{background-color:#003681;border-color:#003681;color:#fff}body.light #challenge-success-text{background-image:url(data:image/svg+xml;base64,PHN2ZyB4bWxucz0iaHR0cDovL3d3dy53My5vcmcvMjAwMC9zdmciIHdpZHRoPSIzMiIgaGVpZ2h0PSIzMiIgZmlsbD0ibm9uZSIgdmlld0JveD0iMCAwIDI2IDI2Ij48cGF0aCBmaWxsPSIjMzEzMTMxIiBkPSJNMTMgMGExMyAxMyAwIDEgMCAwIDI2IDEzIDEzIDAgMCAwIDAtMjZtMCAyNGExMSAxMSAwIDEgMSAwLTIyIDExIDExIDAgMCAxIDAgMjIiLz48cGF0aCBmaWxsPSIjMzEzMTMxIiBkPSJtMTAuOTU1IDE2LjA1NS0zLjk1LTQuMTI1LTEuNDQ1IDEuMzg1IDUuMzcgNS42MSA5LjQ5NS05LjYtMS40Mi0xLjQwNXoiLz48L3N2Zz4=)}body.light #challenge-error-text{background-image:url(data:image/svg+xml;base64,PHN2ZyB4bWxucz0iaHR0cDovL3d3dy53My5vcmcvMjAwMC9zdmciIHdpZHRoPSIzMiIgaGVpZ2h0PSIzMiIgZmlsbD0ibm9uZSI+PHBhdGggZmlsbD0iI2ZjNTc0YSIgZD0iTTE2IDNhMTMgMTMgMCAxIDAgMTMgMTNBMTMuMDE1IDEzLjAxNSAwIDAgMCAxNiAzbTAgMjRhMTEgMTEgMCAxIDEgMTEtMTEgMTEuMDEgMTEuMDEgMCAwIDEtMTEgMTEiLz48cGF0aCBmaWxsPSIjZmM1NzRhIiBkPSJNMTcuMDM4IDE4LjYxNUgxNC44N0wxNC41NjMgOS41aDIuNzgzem0tMS4wODQgMS40MjdxLjY2IDAgMS4wNTcuMzg4LjQwNy4zODkuNDA3Ljk5NCAwIC41OTYtLjQwNy45ODQtLjM5Ny4zOS0xLjA1Ny4zODktLjY1IDAtMS4wNTYtLjM4OS0uMzk4LS4zODktLjM5OC0uOTg0IDAtLjU5Ny4zOTgtLjk4NS40MDYtLjM5NyAxLjA1Ni0uMzk3Ii8+PC9zdmc+)}a{background-color:transparent;color:#0051c3;text-decoration:none;transition:color .15s ease}a:hover{color:#ee730a;text-decoration:underline}.main-content{margin:8rem auto;max-width:60rem;width:100%}.heading-favicon{height:2rem;margin-right:.5rem;width:2rem}@media (width <= 720px){.main-content{margin-top:4rem}.heading-favicon{height:1.5rem;width:1.5rem}}.footer,.main-content{padding-left:1.5rem;padding-right:1.5rem}.main-wrapper{align-items:center;display:flex;flex:1;flex-direction:column}.font-red{color:#b20f03}.spacer{margin:2rem 0}.h1{font-size:2.5rem;font-weight:500;line-height:3.75rem}.h2{font-weight:500}.core-msg,.h2{font-size:1.5rem;line-height:2.25rem}.body-text,.core-msg{font-weight:400}.body-text{font-size:1rem;line-height:1.25rem}@media (width <= 720px){.h1{font-size:1.5rem;line-height:1.75rem}.h2{font-size:1.25rem}.core-msg,.h2{line-height:1.5rem}.core-msg{font-size:1rem}}#challenge-error-text{background-image:url(data:image/svg+xml;base64,PHN2ZyB4bWxucz0iaHR0cDovL3d3dy53My5vcmcvMjAwMC9zdmciIHdpZHRoPSIzMiIgaGVpZ2h0PSIzMiIgZmlsbD0ibm9uZSI+PHBhdGggZmlsbD0iI2ZjNTc0YSIgZD0iTTE2IDNhMTMgMTMgMCAxIDAgMTMgMTNBMTMuMDE1IDEzLjAxNSAwIDAgMCAxNiAzbTAgMjRhMTEgMTEgMCAxIDEgMTEtMTEgMTEuMDEgMTEuMDEgMCAwIDEtMTEgMTEiLz48cGF0aCBmaWxsPSIjZmM1NzRhIiBkPSJNMTcuMDM4IDE4LjYxNUgxNC44N0wxNC41NjMgOS41aDIuNzgzem0tMS4wODQgMS40MjdxLjY2IDAgMS4wNTcuMzg4LjQwNy4zODkuNDA3Ljk5NCAwIC41OTYtLjQwNy45ODQtLjM5Ny4zOS0xLjA1Ny4zODktLjY1IDAtMS4wNTYtLjM4OS0uMzk4LS4zODktLjM5OC0uOTg0IDAtLjU5Ny4zOTgtLjk4NS40MDYtLjM5NyAxLjA1Ni0uMzk3Ii8+PC9zdmc+);padding-left:34px}#challenge-error-text,#challenge-success-text{background-repeat:no-repeat;background-size:contain}#challenge-success-text{background-image:url(data:image/svg+xml;base64,PHN2ZyB4bWxucz0iaHR0cDovL3d3dy53My5vcmcvMjAwMC9zdmciIHdpZHRoPSIzMiIgaGVpZ2h0PSIzMiIgZmlsbD0ibm9uZSIgdmlld0JveD0iMCAwIDI2IDI2Ij48cGF0aCBmaWxsPSIjMzEzMTMxIiBkPSJNMTMgMGExMyAxMyAwIDEgMCAwIDI2IDEzIDEzIDAgMCAwIDAtMjZtMCAyNGExMSAxMSAwIDEgMSAwLTIyIDExIDExIDAgMCAxIDAgMjIiLz48cGF0aCBmaWxsPSIjMzEzMTMxIiBkPSJtMTAuOTU1IDE2LjA1NS0zLjk1LTQuMTI1LTEuNDQ1IDEuMzg1IDUuMzcgNS42MSA5LjQ5NS05LjYtMS40Mi0xLjQwNXoiLz48L3N2Zz4=);padding-left:42px}.text-center{text-align:center}.pow-button{background-color:#0051c3;border:.063rem solid #0051c3;border-radius:.313rem;color:#fff;font-size:.875rem;line-height:1.313rem;margin:2rem 0;padding:.375rem 1rem;transition-duration:.2s;transition-property:background-color,border-color,color;transition-timing-function:ease}.pow-button:hover{background-color:#003681;border-color:#003681;color:#fff;cursor:pointer}.footer{font-size:.75rem;line-height:1.125rem;margin:0 auto;max-width:60rem;width:100%}.footer-inner{border-top:1px solid #d9d9d9;padding-bottom:1rem;padding-top:1rem}.clearfix:after{clear:both;content:\"\";display:table}.clearfix .column{float:left;padding-right:1.5rem;width:50%}.diagnostic-wrapper{margin-bottom:.5rem}.footer .ray-id{text-align:center}.footer .ray-id code{font-family:monaco,courier,monospace}.core-msg,.zone-name-title{overflow-wrap:break-word}@media (width <= 720px){.diagnostic-wrapper{display:flex;flex-wrap:wrap;justify-content:center}.clearfix:after{clear:none;content:none;display:initial;text-align:center}.column{padding-bottom:2rem}.clearfix .column{float:none;padding:0;width:auto;word-break:keep-all}.zone-name-title{margin-bottom:1rem}}.loading-spinner{height:76.391px}.lds-ring{display:inline-block;position:relative}.lds-ring,.lds-ring div{height:1.875rem;width:1.875rem}.lds-ring div{animation:lds-ring 1.2s cubic-bezier(.5,0,.5,1) infinite;border:.3rem solid transparent;border-radius:50%;border-top-color:#313131;box-sizing:border-box;display:block;position:absolute}.lds-ring div:first-child{animation-delay:-.45s}.lds-ring div:nth-child(2){animation-delay:-.3s}.lds-ring div:nth-child(3){animation-delay:-.15s}@keyframes lds-ring{0%{transform:rotate(0)}to{transform:rotate(1turn)}}@media screen and (-ms-high-contrast:active),screen and (-ms-high-contrast:none){.main-wrapper,body{display:block}}.rtl .heading-favicon{margin-left:.5rem;margin-right:0}.rtl #challenge-success-text{background-position:100%;padding-left:0;padding-right:42px}.rtl #challenge-error-text{background-position:100%;padding-left:0;padding-right:34px}</style><meta content=\"390\" http-equiv=\"refresh\"/></head><body class=\"no-js\"><div class=\"main-wrapper\" role=\"main\"><div class=\"main-content\"><noscript><div id=\"challenge-error-title\"><div class=\"h2\"><span id=\"challenge-error-text\">Enable JavaScript and cookies to continue</span></div></div></noscript></div></div><script>(function(){window._cf_chl_opt={cvId: '3',cZone: \"fr.indeed.com\",cType: 'managed',cNounce: '99655',cRay: '88e0b451893900cc',cHash: 'c18d125fee87465',cUPMDTk: \"\\/pagead\\/clk?mo=r&ad=-6NYlbfkN0C3XH7KOyMOW-Q9vL-TbrDy6iUCELLygkx8IRJn1tuDcyo-cgnDVJzbCEHAYLLLFhC9omTaJBcy7GoeEMnqAMvaAI6MAOyx6m5BPZ0olHRtV1PCHs5VKTHMpz2mtLl75Cym8CmlSxQyN6u-e1N7p8MnmD7N-wALFeVXTGz6INxOcKDNlcowo5qY5mMQ2w04uIRVA3oVRTUvWeyJ4wxD209L0td2TrC81jOg4ryUOs5l55zYW9LnYXGX-uEAb6ASpvlPuGyxG2bgBjuJflKIGlEYpXgBnvLdEbNRg1IdMov3WDSs1cs0j-e0yXK5XIZS6FmWlkcxl5Rgte5GzF8m4MYhs2welz3KffLtGT4cfPCv_JZb_Ri2hxPcfJGYjP3bhDqWZRtjjwn3CA9N7_tp9UA2qAiaIoGz-j38f3Ni9r7PeyubNjKdaROCbUQqG9YJge9A4lpOK4Z1h48vYGndhwUYDJOSYUyaol02IPjOmEL0Fpnj6-yH-y4vIjkTU4eX9HAfhgOFiFbW5TNK6Oc6LK4cKEcpFxourabbjX1bad8R4j04CnSpkV-z9sqASX7dstUv-qxwfbVay6iMCWj1_6v0Lx5_XIpmGJg06wr7KqwhiddWUDAXi6WWCGnY2kL5u0B4Aa3PhuXnDd-rHHQ45mIXKZZkT0cWrMJA4JMA73-7lwjcnBAgQjFtIdrjPpwk1XojAhuayq6DpvOl-XOYCh1LyR_xcAz_JiM=&xkcb=SoAP6_M3AvekYoynQ50PbzkdCdPP&camk=xqnMBGaf-K9SVL4gPF_6wQ==&p=0&fvj=0&vjs=3&__cf_chl_tk=xZpt0.NPwNF5Ryk0ZlSH1sf22l3K2yxMn0_6EbhltmQ-1717428416-0.0.1.1-6164\",cFPWv: 'g',cTTimeMs: '1000',cMTimeMs: '390000',cTplV: 5,cTplB: 'cf',cK: \"visitor-time\",fa: \"\\/pagead\\/clk?mo=r&ad=-6NYlbfkN0C3XH7KOyMOW-Q9vL-TbrDy6iUCELLygkx8IRJn1tuDcyo-cgnDVJzbCEHAYLLLFhC9omTaJBcy7GoeEMnqAMvaAI6MAOyx6m5BPZ0olHRtV1PCHs5VKTHMpz2mtLl75Cym8CmlSxQyN6u-e1N7p8MnmD7N-wALFeVXTGz6INxOcKDNlcowo5qY5mMQ2w04uIRVA3oVRTUvWeyJ4wxD209L0td2TrC81jOg4ryUOs5l55zYW9LnYXGX-uEAb6ASpvlPuGyxG2bgBjuJflKIGlEYpXgBnvLdEbNRg1IdMov3WDSs1cs0j-e0yXK5XIZS6FmWlkcxl5Rgte5GzF8m4MYhs2welz3KffLtGT4cfPCv_JZb_Ri2hxPcfJGYjP3bhDqWZRtjjwn3CA9N7_tp9UA2qAiaIoGz-j38f3Ni9r7PeyubNjKdaROCbUQqG9YJge9A4lpOK4Z1h48vYGndhwUYDJOSYUyaol02IPjOmEL0Fpnj6-yH-y4vIjkTU4eX9HAfhgOFiFbW5TNK6Oc6LK4cKEcpFxourabbjX1bad8R4j04CnSpkV-z9sqASX7dstUv-qxwfbVay6iMCWj1_6v0Lx5_XIpmGJg06wr7KqwhiddWUDAXi6WWCGnY2kL5u0B4Aa3PhuXnDd-rHHQ45mIXKZZkT0cWrMJA4JMA73-7lwjcnBAgQjFtIdrjPpwk1XojAhuayq6DpvOl-XOYCh1LyR_xcAz_JiM=&xkcb=SoAP6_M3AvekYoynQ50PbzkdCdPP&camk=xqnMBGaf-K9SVL4gPF_6wQ==&p=0&fvj=0&vjs=3&__cf_chl_f_tk=xZpt0.NPwNF5Ryk0ZlSH1sf22l3K2yxMn0_6EbhltmQ-1717428416-0.0.1.1-6164\",md: \"flvEe5xlvYQbBQ6rNVwHiNjZ1JCMtjRcbwtEp57weHA-1717428416-1.1.1.1-5d0T1LmFVx2T0RCujpbLM2Ak5uDeSjNv2accxpIMEfhipE6PcsfaD2XSmOpfb5Y5MZK.YUf0XwLnPy1peRF_oJiFfJtua4Xn6Lzb1XSizvOo2pt7PHIhr13F4HPy4hsS4dX6wpgijnkaiqbI2cWxngYUm_mc4qiEVRpoP5IlYtvN6VRrCEwVYCFJ2nWx9EDXFK43TPubU88wFr7DP2jc7opDIXhsEAVdmmQKyXuLI9jD5fdTeCq3kmAMux4dErvppKcDxgGmDFC4VBujrOlek8l2oUQRoZf4VHgWkMg5yQ4X_zxJB3Q4Pxy32mxJaGTs8KdBfBKvhDKgnduQDrDjbYpmFxZsn4n7wxKv5rP_s73grGsc4lZFukavBDcjQhMjeH4jWLYkSFZpggy.A2.AKDAEuoEFr70RkzKNILZc6yRRBVjBah0sKWQ4vp.Nsc2RdryAUdvOwnbgR9JaCpoOyG3aNFzJxd_dTimi0VmgIY5Es93gV9hK1rmeR_ajDnl75yW4vk76eEfeG5xNozj1BQl0pD7IIVPz4CE7XCOVlrWMr2u3dH2C10nS8gLj2BtPRDaVHicIIY2H3e9Is5HvQuA2JdpxqY4P4f8AQgIkM31Vw8yEjF03cxvK62zOKhESmbCWF_Dg8tPVagbofuk7HaCQB7CmUpOMzBzh2zxGuMM3FkUoAFtKoXD5p5ipJUgDNXFALNmFKUmEXrkCODuAFUYmYPoltUupJrqTpxPOQa0zQAWcmpwOXD4CqMqlEZB0Gse9HwmdTAHjGcvW53GBv5Yv0Glfr3EeT4h5EZKXM8B0lRBEFhkJ5ODIzYZUSp6v3a_xF4Zbsis9KJlPb6LZUYKFjosVmqFD6Q1kZHlWMVDNhOwI7qLlhN8iy4RQaEVT5.o1XnCCApCyFvZvMquzHCry_0yqi2CdeEIYMAuKMADihbA9re87qIdKIu3Gq7dXelpmECWSkvYMUC5mbpGJur2MYbgyN8uEzX2kaTZ89akq.bA7k9nnqtfaDZMkz6IEsn3TyDHe5EEhuxR7v8p2NmyHRUJTcxqIn.NtcYcm7XeK65zyQ_7eSdkMPwzyHBE9IpTgxYjXk1UbYGl4BUCfeyeayMunzUjaAT479ny7rXkpX8VAQ2OZBLimtiolumTVohJ2Y3Zm_wDrLpk1CMNT5WKJ2RWguykR1eyZyke65IYfHbSR3c_b1pOjxANRiphd8fs76F3R.nf5XsFgtJZKfWtvpbcQK8PqBfKbCO9zzl72bbgBcuUyTV6pQxH6Lox4skajDEyDQ_dsNzVcbRc8_008YmIvHg8.GGJ6lx1HYDAXKIFvFQM626oCklQMVTMZ5T7LWGVssH1hJ3DFIJV6RmmOP.rSJb.5AG6RxeZtJY1Rx.8bamIvd2S1hZAl4Q3gCR2WM4HArMlJzPqYnbOoeV8tXFnZ2aZ1Cby2HCl0RvULDqgSaisSrZTc7gt3W.C_z85ta1n_tt2x8D22p8akVRtKFF1RislnhKaNkkISkfR_cZJDoNqK83cHslsJrFqDmzKbYmnPRkV946pwMFUwgZwItcFNP6gUydjXwE.NDeJ_aRyAvHriHbit5O4YLXubqVSTfpSJ75x363WmvcBu5N1K5SjlwtS1Z5Lpo8bMKasjgGLgnQ_c5TZwzUnC2d7FhlFKGKNMaSnKluO.yExzDwyjSsDbIK1GBXJZS52S1ezXzgT2neC9Aix3o7PulZ4HJZ6aY84OPWK7MqYd_Otr5xPRPeo0Bil1OB7dvH58By2J5GGTU4l.UsfVYn00W0_lnzVCyRV.sAd58IqjUXvNs_6SbeLcaEQB.2ivXCt.yH8tObQe.yZIPdVE0RimSMyxxVCswPAgJ7hju9IhPyWWeMeKHOt1mveG_Pgn5STp5EejsSc4ByBl.GZku2amG39xslfI6x60ViluCN_9Q9P1ahdBVnWrMvgRwvrs6Sd3Mg6v5Hhst8bN306EFAjI.p7qUhO48tZ7GsfnX2TR0ai4Sz5PCSSuTmb2rw5c2_bvJd7C4D9tfj2LFvgvnq_4NHeEjYwNnxoXVGuEb3_M0n8tn7bmITJh_0Y_8KCn_JP1g9jkv05RTGXQyPpMnnYkQSqsaOmnZzAkD2uvW0jv_q5aNOE8w3StIHVVdSk6VFMCHWvjN.2bfkorplHYeipa8H1pOswUArTTS58OLFchcoUMXkDJeGVch7ZIJw30g2Wh5Z4azROXhqvDPcupPe7peY3zbTZYQ5HrpgMe9jvnF1bv9PMt0HjkjIz35BuR3lTn4TTGyFERPET5xCPGk9dntEKJp6LmznN3cep1ru5nh.iu_1JAmJeY_SFty5tcHn1DHq73gcN_OB7wa8hsqmJVZ.X1ubAGAGNw5iwrgVs8C7psV0RBlkJ.0vklnMoLJtQywm2_m299SUHmr6F1_bLL_kgRhjVkQOWFKXVyNtS47Q1_EJyjnZ2meDuo0vy.M5JCKYla9Ua5FOg7_SSBken9.PoyflDP3vwE6f9sXO9TYhBMGhu_Nu2FOrmnk9KP4f_Tj8MvQNNJYZIu61.vsOTB3I8__6pErc1QXxqLMYGoxyxdXqNIxJNmvBeGmZHcsKhc6N32ZwyvA7CFJUdddAwAucqnfaIKwm7INQhCQlP86u7R.aXfRtKbP6.wgO49yek4o50pjrj.altdyqlZWwRdPd8GDMKsD0dfu9t5o1aN.Y94.CTiVg_Ix0.8MNC0i1AE5ZfpXpi4CBppymcBFKyEh3sDGeFzZOXFsBVRwaa1Xq34SDARMllhCtQh4XZZnh1JP0uOpVqP06c9UEjB5iJMVv.NMFPM_qLObyasRNokMxEcGGg5v_WPYSM8JwsKI60jlT.Fm4hIZnhUkWiReFSkMz4PVli5Mlh89KHmaaDjzunUsb4W91TVEk6wbsbAqh61bGeTfmNu4X5v38rr0Jotzm4pBIkNWYdko5k21APhXrOasK10hlmyD7dxF1h.k0WXTF.ALeEh1aM2Azfzboqw.VtFu6ksu5Ej4xYBlo6bbjM95vEsDwJa7ZX7qh82wparEW90GUW1Esd550jwgndjFOKqSZZip6NLz4pi8stDq16_kdonHrMxKSPV7m9qseWv7NVObFHvlkbl6b5zDPu6R3Kh4uxN50jSjOeA6MeQ3J6Z5jRkrCSy4WoRGwKjTBRnI8kl_UUoR2PDb3OIrjo0FVwXDUQ4gn1.tCCZ6_FMDVldlPcQied7eiz_wQtrjvkB1U0W6lEXtn1pkFindOZbrIj9vQ4Cp6JO_p_jOagxrY1nrP4ef6dqY34ZRESYZJXUaJH6.yJ2Hs3p0SXk8tWpDzGWKgd48wtdamJZf5HVcV49ks2MZa4cutPTTytJXWROgMmaYDILY6XFowDNiwpAjhttHpbVIpBeawktqmELsGnrumz6LRF2lB1SNjNtniVzUt9fTlVcp03JDGODXQ0r2jCz_Xlf5Jly9gS1uKaKxiq7sdEd.qV5o9bHnsS9dGaKX4pXAuNsCmapNNjwI6mdgtnAkAYJ.q9BHMRwtZws_hs7P9nJY9XYH8HqyZ7z2T49F74oqSmQBwb90aGNDL9PW51KHaobeoeku.T34wNG0v6WLoMGfSMTSuX5FSN5I.TGiVsSDsHz5I0aVzMKVRxwLxfnbEEx.E4UTRBPTBstyouNcAPRXGJGVOQ6N2duaR1mCJGrAbdWetvFJ4hP2RARRJIntVzolsOZK5wc23BkfbeI8wYWKd1z2ji1OY7Z7R2n8JCwv70eWbzjb5u3B4dUHvAs\",mdrd: \"y2GYj8pDi1iIDKBzTZTxIRcSzzKXaFKpn8D2H4un9vs-1717428416-1.1.1.1-ev0zBN.GuWTSIxeOk7uSWJkaSEOOeGOkr7Cwg8kuyB6BEk3Eiryw4uyL0AeZsiVeUH_lpG5U.H9bu7MA3dn88rwT2NXpxrJ8DVKycZX77WVFGFzRePhYmnkB1eLwEytH0pVGhWJClABKnaFtfiVts22COEl_MtD453L2phg.29r3E6f8rsXlNlVf5CPIcR_J.MymgkjnRe9STKiicvItXIFLpeU5H_WkdYq8SA70Pqy9r0YGGJOHayX9Hm5ebvazVbkFjY9fwxMDhBF1HZSTpmUaSVslgJMhzfmcPMw_P9I_FQeNPRL68bicCh4PAUKzFDWzyj2fShrrDx.li3GPo17Kf_n2XIu4FTwXWS8uYiTg9oan80wr69fIB_wQLUHQHUWUKLOlrg1rA7Fz8oup5nsV9WZFw890rHKcpDK6siXXtZGTnhS_PPODWUfQjnXEdco1fGG4LTc2RKdhdocI2KAeKb2rU6moJjnop3UGCJUQrb1NgXAc4S6qd8UXE4HlgUiQGokYknzRaWuRp9.rrGLeau5KvrzdOqFd5IIJszPq30JiTzu_xoOM8GTiEot9kEQK6NlQa1DKugeLKeIB5vRUHlAsFbx_oKa303inXojpdIZt_wQQkYj3i63QRJqVGFgmtS1jszi74DmBSWmsgrZhUmV5u3.cQ_GI6SRWpxAXORTz9LZY_wgai3kr6H05yXohqvfcAtnjxJ2Y7xbgUuFO80MsHWkvYWnSRmVc_dW9HdZOVjvGMwBdr.cI2c3xAFVjLuZRjHZzHkuw_6MnsUmy50f2nO3XU9PrMXo3Ot5_LEZ9t3PG2YNbjgG6q.vWhloFos_0HdryoFA_lvd2R400BURU5Dpv9nFK1zc4hNzC6MRxqZjaePgx4pwVpg9897.Li1Ks5mioWgSpfuHHhVU8T_BR2Sur1VMNZJ9cphf4IdPeA6sXw6Z2Y5My9G6K3HXNhwHc9OdasCpyJEABavh22tOJ4h1azdwj5pm.3cOcRh.o4BhhcOtr7miIaYxmXCO3eNoJ6PeRjvP4x27sqjmIJcoZ74DmOzJh0tVxxtb7slY1AH5LQFckPAcDLmtGNt0Nn88cqIxLMYmvji_MIMTHq55B5NGxmkQ1b9goviPSqd90e2qN76bh_laPaNhuOuDHblf9E83wABvl85Zg_sQYvS4lxnCh025667LYe5R7hKzGnscpK300e63LFpb_jjMraiMI_UGQpU4OzNe_rIH5VrJPHkbLKyfipWtmnJw8_VmoDMzrViA5STDSlLOD8KzcxGPHLMmFaQjsJSGQFM4BMu_P5jzdTsxqxx1YWpFJ6a11Wfuf0Jvo7YuCCbmbjdTUKkNMSaBLA7JfPJwsEkBFBfVjC4i6jjkCmWP8UKOLAMHdWXBd.l22FE.ULyKRqJ6zLSNvVr1bhxzbS9zsYMPHaGZC1TrzgloqQfNtPNodCNkOKUBmm.P2lCkmpMZLHfZmod9oamVrnGpyfDB_1nzACcRs.rWVcFa3.a.J1mnZuqrpOM8cR7B3qNPyhHUwvcSaiFIap_G1DtE06IueNBW9KjTf6X4WkTrppo.8evL1pk5Ztk3ta5vZeuXJdCczNqc6CbHQnNlPtq2cIAHMI03iLT.mIwetqJp_HPHwOMw1Pq1T3tyIUQhf2ZSPB.cPGjhislv1NYExyzhFssBWxxPPNJqnHelYRkoy1viCMq2FVnR3xO09j81lus9qk2BX0gNuGEqdY86NNKUjp6yWTxZsA5tZ.V2I.DfvM5y6f04V82PKobDnvGopQEVYKwU0NmfNYVH35apuytvp45qzY1vnts_J9__B1JDnOfHs7beEpw9Cv27XZ3cr2IpT49Pt2vqsY_1KvNZVpiZ6T2buraYZjdt0J7vLWbuvmnPAuzb6YHPYOlMeLvd1o027Fsn3uba7d74.cjowrCzGlxjFfvOWpjfjWr2Eso.vcvy9cpY2CT8hMNCJ1akZ50r08xWkXM25mpZ5yAosbUxNf1geUoPcFLqnSOV4ZZSgBUw3ZL3eteScSfWP9QHnu2ncUhLU6zoXCYcVdWS3rtDdgh5JHy6cv0o9kcjWFlny4SUP8sGksLbYMSK46YbjVott3fnF5kB52PEB8F52IcEh7IYwtObm7GLAGq5Z42ubuY_V1eTSR4OasIcXAEjrax4BAL9bhcHp0NwXh9ka4mJYYSGEpzWw3_lntGCkuXTDQJP7pze3VB09RaH5KNlGr5mA.3n5OX1zvcTkroC4EddmLhUODg\",cRq: {ru: 'aHR0cHM6Ly9mci5pbmRlZWQuY29tL3BhZ2VhZC9jbGs/bW89ciZhZD0tNk5ZbGJma04wQzNYSDdLT3lNT1ctUTl2TC1UYnJEeTZpVUNFTEx5Z2t4OElSSm4xdHVEY3lvLWNnbkRWSnpiQ0VIQVlMTExGaEM5b21UYUpCY3k3R29lRU1ucUFNdmFBSTZNQU95eDZtNUJQWjBvbEhSdFYxUENIczVWS1RITXB6Mm10TGw3NUN5bThDbWxTeFF5TjZ1LWUxTjdwOE1ubUQ3Ti13QUxGZVZYVEd6NklOeE9jS0RObGNvd281cVk1bU1RMncwNHVJUlZBM29WUlRVdldleUo0d3hEMjA5TDB0ZDJUckM4MWpPZzRyeVVPczVsNTV6WVc5TG5ZWEdYLXVFQWI2QVNwdmxQdUd5eEcyYmdCanVKZmxLSUdsRVlwWGdCbnZMZEViTlJnMUlkTW92M1dEU3MxY3Mwai1lMHlYSzVYSVpTNkZtV2xrY3hsNVJndGU1R3pGOG00TVloczJ3ZWx6M0tmZkx0R1Q0Y2ZQQ3ZfSlpiX1JpMmh4UGNmSkdZalAzYmhEcVdaUnRqanduM0NBOU43X3RwOVVBMnFBaWFJb0d6LWozOGYzTmk5cjdQZXl1Yk5qS2RhUk9DYlVRcUc5WUpnZTlBNGxwT0s0WjFoNDh2WUduZGh3VVlESk9TWVV5YW9sMDJJUGpPbUVMMEZwbmo2LXlILXk0dklqa1RVNGVYOUhBZmhnT0ZpRmJXNVROSzZPYzZMSzRjS0VjcEZ4b3VyYWJialgxYmFkOFI0ajA0Q25TcGtWLXo5c3FBU1g3ZHN0VXYtcXh3ZmJWYXk2aU1DV2oxXzZ2MEx4NV9YSXBtR0pnMDZ3cjdLcXdoaWRkV1VEQVhpNldXQ0duWTJrTDV1MEI0QWEzUGh1WG5EZC1ySEhRNDVtSVhLWlprVDBjV3JNSkE0Sk1BNzMtN2x3amNuQkFnUWpGdElkcmpQcHdrMVhvakFodWF5cTZEcHZPbC1YT1lDaDFMeVJfeGNBel9KaU09JnhrY2I9U29BUDZfTTNBdmVrWW95blE1MFBiemtkQ2RQUCZjYW1rPXhxbk1CR2FmLUs5U1ZMNGdQRl82d1E9PSZwPTAmZnZqPTAmdmpzPTM=',ra: 'TW96aWxsYS81LjAgKE1hY2ludG9zaDsgSW50ZWwgTWFjIE9TIFggMTBfMTFfNikgQXBwbGVXZWJLaXQvNjAxLjcuNyAoS0hUTUwsIGxpa2UgR2Vja28pIFZlcnNpb24vOS4xLjIgU2FmYXJpLzYwMS43Ljc=',rm: 'R0VU',d: 'Hrs7SD4AE7WHZHyYHYy5yzIBYiPjlrHTEVWgV1bTkea+GYE3xCL5wV6Sbneilt+3Ivtz4EGnbC3oFp0sbRV4Fnpp7c3W+TFjaC/I1Evd0u6s+iVflyN8IcG1RKqDe51estQn+2sZqyBeFuPOl8qibvFMjNrbireFrAKF3enGBWnSrXJuiJ7SSQhcWK+iwCok3PK3IWEZdMSFNxsWaCVQN2tt+EH4vzQLbcvb8Prsps8Kd2GRPCQHAbfD2wdyqmt7Sv6N/j/KRpbkpS2Pq9hjkj3ICM5tGvZP+6d4cKneUG/+ywJql3DyJ4mTD8qR2Qbfgx7RMTRUsgSuFQ0ML5n/Hz7KMgKDyfEFXEJhSAeS0RO7Gi9UqDXahIe/zZ3E9kEYKbKfM9jt1yzr+mYMmDdLkI4Uxc1hIEsJU5/frgucmIeHuikuLQc4WlGT4ppjFDK+B2oMPhMWd/4xPA3vhiGot9FsqsDb3n4fSyn2kgZb+cEXAc1iCcPKeKzxWsF5wJcCDb+cu9Xp+brcjjk/NsQw4S9tT3Lr4cJeGO6qN5L2kWQ=',t: 'MTcxNzQyODQxNi4yNTAwMDA=',cT: Math.floor(Date.now() / 1000),m: 'tK8CmLcmBMsyBtC85Bn/QLTCVkQZxdMQpwJO8LkTkuk=',i1: 'u18UtCuzDp3thRMDY7oUoQ==',i2: 'P3hICFDNVDC1pYtZ+1rsmA==',zh: '2kfjrLYfAVNem19Lin3oP+VKo7ladb55se1eVtiLLnQ=',uh: '7wPGOn0Q0sNTNsI+lqpin0M20qNSniTdw0Tt2XcJQCs=',hh: 'gLgMmhX/kJItEDPAzFqOlZjzCLQDUQA5c3ByqchULdk=',}};var cpo = document.createElement('script');cpo.src = '/cdn-cgi/challenge-platform/h/g/orchestrate/chl_page/v1?ray=88e0b451893900cc';window._cf_chl_opt.cOgUHash = location.hash === '' && location.href.indexOf('#') !== -1 ? '#' : location.hash;window._cf_chl_opt.cOgUQuery = location.search === '' && location.href.slice(0, location.href.length - window._cf_chl_opt.cOgUHash.length).indexOf('?') !== -1 ? '?' : location.search;if (window.history && window.history.replaceState) {var ogU = location.pathname + window._cf_chl_opt.cOgUQuery + window._cf_chl_opt.cOgUHash;history.replaceState(null, null, \"\\/pagead\\/clk?mo=r&ad=-6NYlbfkN0C3XH7KOyMOW-Q9vL-TbrDy6iUCELLygkx8IRJn1tuDcyo-cgnDVJzbCEHAYLLLFhC9omTaJBcy7GoeEMnqAMvaAI6MAOyx6m5BPZ0olHRtV1PCHs5VKTHMpz2mtLl75Cym8CmlSxQyN6u-e1N7p8MnmD7N-wALFeVXTGz6INxOcKDNlcowo5qY5mMQ2w04uIRVA3oVRTUvWeyJ4wxD209L0td2TrC81jOg4ryUOs5l55zYW9LnYXGX-uEAb6ASpvlPuGyxG2bgBjuJflKIGlEYpXgBnvLdEbNRg1IdMov3WDSs1cs0j-e0yXK5XIZS6FmWlkcxl5Rgte5GzF8m4MYhs2welz3KffLtGT4cfPCv_JZb_Ri2hxPcfJGYjP3bhDqWZRtjjwn3CA9N7_tp9UA2qAiaIoGz-j38f3Ni9r7PeyubNjKdaROCbUQqG9YJge9A4lpOK4Z1h48vYGndhwUYDJOSYUyaol02IPjOmEL0Fpnj6-yH-y4vIjkTU4eX9HAfhgOFiFbW5TNK6Oc6LK4cKEcpFxourabbjX1bad8R4j04CnSpkV-z9sqASX7dstUv-qxwfbVay6iMCWj1_6v0Lx5_XIpmGJg06wr7KqwhiddWUDAXi6WWCGnY2kL5u0B4Aa3PhuXnDd-rHHQ45mIXKZZkT0cWrMJA4JMA73-7lwjcnBAgQjFtIdrjPpwk1XojAhuayq6DpvOl-XOYCh1LyR_xcAz_JiM=&xkcb=SoAP6_M3AvekYoynQ50PbzkdCdPP&camk=xqnMBGaf-K9SVL4gPF_6wQ==&p=0&fvj=0&vjs=3&__cf_chl_rt_tk=xZpt0.NPwNF5Ryk0ZlSH1sf22l3K2yxMn0_6EbhltmQ-1717428416-0.0.1.1-6164\" + window._cf_chl_opt.cOgUHash);cpo.onload = function() {history.replaceState(null, null, ogU);}}document.getElementsByTagName('head')[0].appendChild(cpo);}());</script></body></html>"
      ]
     },
     "execution_count": 184,
     "metadata": {},
     "output_type": "execute_result"
    }
   ],
   "source": [
    "soup = BeautifulSoup(response.content)\n",
    "soup\n"
   ]
  },
  {
   "cell_type": "code",
   "execution_count": null,
   "metadata": {},
   "outputs": [
    {
     "data": {
      "text/plain": [
       "[]"
      ]
     },
     "execution_count": 181,
     "metadata": {},
     "output_type": "execute_result"
    }
   ],
   "source": [
    "job_title = soup.findAll(class_='fastviewjob jobsearch-ViewJobLayout--standalone css-160pxqo eu4oa1w0 hydrated')\n",
    "job_title"
   ]
  },
  {
   "cell_type": "code",
   "execution_count": null,
   "metadata": {},
   "outputs": [],
   "source": []
  },
  {
   "cell_type": "code",
   "execution_count": null,
   "metadata": {},
   "outputs": [],
   "source": []
  },
  {
   "cell_type": "markdown",
   "metadata": {},
   "source": [
    "# Selenium"
   ]
  },
  {
   "cell_type": "code",
   "execution_count": 3,
   "metadata": {},
   "outputs": [
    {
     "data": {
      "text/html": [
       "<div>\n",
       "<style scoped>\n",
       "    .dataframe tbody tr th:only-of-type {\n",
       "        vertical-align: middle;\n",
       "    }\n",
       "\n",
       "    .dataframe tbody tr th {\n",
       "        vertical-align: top;\n",
       "    }\n",
       "\n",
       "    .dataframe thead th {\n",
       "        text-align: right;\n",
       "    }\n",
       "</style>\n",
       "<table border=\"1\" class=\"dataframe\">\n",
       "  <thead>\n",
       "    <tr style=\"text-align: right;\">\n",
       "      <th></th>\n",
       "      <th>poste</th>\n",
       "      <th>entreprise</th>\n",
       "      <th>lieu du poste</th>\n",
       "      <th>description</th>\n",
       "      <th>Type de poste</th>\n",
       "    </tr>\n",
       "  </thead>\n",
       "  <tbody>\n",
       "    <tr>\n",
       "      <th>0</th>\n",
       "      <td>Data Analyst H/F</td>\n",
       "      <td>Aterno</td>\n",
       "      <td>Entzheim (67)</td>\n",
       "      <td>\\nActeur de la transition écologique et expert...</td>\n",
       "      <td>[CDI, ]</td>\n",
       "    </tr>\n",
       "  </tbody>\n",
       "</table>\n",
       "</div>"
      ],
      "text/plain": [
       "              poste entreprise  lieu du poste  \\\n",
       "0  Data Analyst H/F     Aterno  Entzheim (67)   \n",
       "\n",
       "                                         description Type de poste  \n",
       "0  \\nActeur de la transition écologique et expert...       [CDI, ]  "
      ]
     },
     "execution_count": 3,
     "metadata": {},
     "output_type": "execute_result"
    }
   ],
   "source": [
    "import pandas as pd\n",
    "from bs4 import BeautifulSoup\n",
    "from selenium import webdriver\n",
    "from selenium.webdriver.chrome.service import Service\n",
    "from selenium.webdriver.common.by import By \n",
    "from selenium.webdriver.common.keys import Keys\n",
    "from selenium.webdriver.support.ui import WebDriverWait\n",
    "from selenium.webdriver.support import expected_conditions as EC\n",
    "from selenium.common.exceptions import TimeoutException\n",
    "import time\n",
    "import random\n",
    "\n",
    "### human like interaction ##\n",
    "def random_delay():\n",
    "    time.sleep(random.uniform(2, 5))\n",
    "\n",
    "# Function to simulate typing\n",
    "def simulate_typing(element, text):\n",
    "    for char in text:\n",
    "        element.send_keys(char)\n",
    "        time.sleep(random.uniform(0.7, 1))\n",
    "\n",
    "\n",
    "### initialisation du driver chrome  ###\n",
    "path = '/Users/jaroldmartinez/Documents/CODE/chromedriver'\n",
    "service = Service(executable_path=path)\n",
    "driver = webdriver.Chrome(service = service)\n",
    "\n",
    "driver.get('https://fr.indeed.com/')\n",
    "\n",
    "search = driver.find_element(By.NAME,'q')   # on accède à la barre de recherche\n",
    "search.send_keys('data analyst')            # on met la recherche qu'on veut (data analyst)\n",
    "\n",
    "                                            \n",
    "location = driver.find_element(By.NAME,'l')\n",
    "location.send_keys('france')\n",
    "# simulate_typing(location, 'france')\n",
    "location.send_keys(Keys.RETURN) # Keys.RETURN == bouton Enter\n",
    "\n",
    "##### maintenant nous sommes dans la page d'offre d'emploi pour data analyst\n",
    "\n",
    "soup = BeautifulSoup(driver.page_source)\n",
    "\n",
    "job_page = soup.findAll(class_='css-5lfssm eu4oa1w0') # cette classe correspond aux annonces\n",
    "\n",
    "list_of_links=[]\n",
    "for job in job_page:\n",
    "    j = job.find_all(class_='jcs-JobTitle css-jspxzf eu4oa1w0')\n",
    "    # dans chacune de ces annonces on cherche un autre classe où nous pouvons trouver les liens pour chaque annonce\n",
    "    # print(j)\n",
    "    for a in j:\n",
    "        list_of_links.append(a['href'])\n",
    "        # le href contient les liens des annonces (individuelle)\n",
    "# list_of_links\n",
    "\n",
    "random_delay()\n",
    "# on accède à la première\n",
    "url = 'https://fr.indeed.com/'+list_of_links[0]\n",
    "driver.get(url)\n",
    "\n",
    "soup_1 = BeautifulSoup(driver.page_source)\n",
    "\n",
    "########## je cherche le titre de l'annonce #############\n",
    "job_title = soup_1.find(class_='jobsearch-JobInfoHeader-title css-1b4cr5z e1tiznh50')\n",
    "\n",
    "########## le nom de l'entreprise #############\n",
    "company_name = soup_1.find(class_='css-1saizt3 e1wnkr790')\n",
    "\n",
    "########## lieu du poste #############\n",
    "localisation = soup_1.find(class_='css-waniwe eu4oa1w0')\n",
    "\n",
    "\n",
    "\n",
    "\n",
    "            # pour le contenu de 'information sur le profil' où nous trouvons les compétences / formation / type de poste / temps de travail ..\n",
    "            # on a des class similaire pour chaque info , que ce soit les compétences ou la formation, quand o,n cherche la classe cela nous renvoie le\n",
    "            # premier qui apparait... \n",
    "            # il faudrait trouver tout les contenaires puis afficher leurs .text. et ce serait en focntion de ce .text qu'on pourrait trier l'information\n",
    "\n",
    "########## compétences #############\n",
    "informations = soup_1.findAll(class_='js-match-insights-provider-36vfsm eu4oa1w0')\n",
    "\n",
    "# info = informations.findAll(class_='js-match-insights-provider-11n8e9a e1tiznh50') # celui ci renvoie seulement la ligne contenant le h3 mais pas son arborescence ( trouver une classe plus haute ??)\n",
    "\n",
    "section={}\n",
    "for idx,info in enumerate(informations):\n",
    "    j = info.findAll(class_='js-match-insights-provider-e6s05i eu4oa1w0')\n",
    "    section_elements={}\n",
    "    for f in j:\n",
    "        h3_element = f.findAll('h3',class_='js-match-insights-provider-11n8e9a e1tiznh50')  # essayer de rentrer dans le h3 pour n'avoir que le titre\n",
    "        res = f.findAll(class_='js-match-insights-provider-tvvxwd ecydgvn1')\n",
    "        for h3 in h3_element:\n",
    "            categorie = h3.text\n",
    "            for l in res:\n",
    "                section_elements.setdefault(categorie ,[]).append(l.text)\n",
    "\n",
    "######### description du poste ###########\n",
    "description = soup_1.find(class_='jobsearch-jobDescriptionText jobsearch-JobComponent-description css-kqe8pq eu4oa1w0')\n",
    "description.text\n",
    "\n",
    "\n",
    "\n",
    "\n",
    "# prendre les informations récoltés et les insérés dans un dataframe\n",
    "\n",
    "dicto = {'poste':job_title.text,'entreprise':company_name.text,'lieu du poste':localisation.text,'description':description.text}\n",
    "full = dicto | section_elements \n",
    "\n",
    "data_1 = pd.DataFrame(dicto, index=[0])\n",
    "\n",
    "series = pd.Series(section_elements)\n",
    "series = series[series!='']\n",
    "data_2 = series.to_frame().T\n",
    "data_2\n",
    "\n",
    "full_data = pd.concat([data_1,data_2], axis=1)\n",
    "full_data\n",
    "\n",
    "# print(job_title.text,'\\n',company_name.text,'\\n',localisation.text,'\\n',section_elements)\n"
   ]
  },
  {
   "cell_type": "markdown",
   "metadata": {},
   "source": [
    "### essai de merge avant de passer en dataframe"
   ]
  },
  {
   "cell_type": "code",
   "execution_count": null,
   "metadata": {},
   "outputs": [],
   "source": [
    "dicto = {'poste':job_title.text,'entreprise':company_name.text,'lieu du poste':localisation.text}"
   ]
  },
  {
   "cell_type": "code",
   "execution_count": 28,
   "metadata": {},
   "outputs": [
    {
     "data": {
      "text/plain": [
       "{'poste': 'Data Analyst H/F',\n",
       " 'entreprise': 'Peroptyx',\n",
       " 'lieu du poste': 'Marseille (13)',\n",
       " 'Salaire': ['De 630 € à 1\\xa0260 € par mois', ''],\n",
       " 'Type de poste': ['Part-time', '']}"
      ]
     },
     "execution_count": 28,
     "metadata": {},
     "output_type": "execute_result"
    }
   ],
   "source": [
    "# on combine les 2 dictionnaire\n",
    "full = dicto | section_elements \n",
    "full"
   ]
  },
  {
   "cell_type": "code",
   "execution_count": 41,
   "metadata": {},
   "outputs": [
    {
     "data": {
      "text/html": [
       "<div>\n",
       "<style scoped>\n",
       "    .dataframe tbody tr th:only-of-type {\n",
       "        vertical-align: middle;\n",
       "    }\n",
       "\n",
       "    .dataframe tbody tr th {\n",
       "        vertical-align: top;\n",
       "    }\n",
       "\n",
       "    .dataframe thead th {\n",
       "        text-align: right;\n",
       "    }\n",
       "</style>\n",
       "<table border=\"1\" class=\"dataframe\">\n",
       "  <thead>\n",
       "    <tr style=\"text-align: right;\">\n",
       "      <th></th>\n",
       "      <th>poste</th>\n",
       "      <th>entreprise</th>\n",
       "      <th>lieu du poste</th>\n",
       "    </tr>\n",
       "  </thead>\n",
       "  <tbody>\n",
       "    <tr>\n",
       "      <th>0</th>\n",
       "      <td>Data Analyst H/F</td>\n",
       "      <td>Peroptyx</td>\n",
       "      <td>Marseille (13)</td>\n",
       "    </tr>\n",
       "  </tbody>\n",
       "</table>\n",
       "</div>"
      ],
      "text/plain": [
       "              poste entreprise   lieu du poste\n",
       "0  Data Analyst H/F   Peroptyx  Marseille (13)"
      ]
     },
     "execution_count": 41,
     "metadata": {},
     "output_type": "execute_result"
    }
   ],
   "source": [
    "data_1 = pd.DataFrame(dicto, index=[0])\n",
    "data_1"
   ]
  },
  {
   "cell_type": "code",
   "execution_count": 34,
   "metadata": {},
   "outputs": [
    {
     "data": {
      "text/plain": [
       "{'Salaire': ['De 630 € à 1\\xa0260 € par mois', ''],\n",
       " 'Type de poste': ['Part-time', '']}"
      ]
     },
     "execution_count": 34,
     "metadata": {},
     "output_type": "execute_result"
    }
   ],
   "source": [
    "section_elements"
   ]
  },
  {
   "cell_type": "code",
   "execution_count": 43,
   "metadata": {},
   "outputs": [
    {
     "data": {
      "text/html": [
       "<div>\n",
       "<style scoped>\n",
       "    .dataframe tbody tr th:only-of-type {\n",
       "        vertical-align: middle;\n",
       "    }\n",
       "\n",
       "    .dataframe tbody tr th {\n",
       "        vertical-align: top;\n",
       "    }\n",
       "\n",
       "    .dataframe thead th {\n",
       "        text-align: right;\n",
       "    }\n",
       "</style>\n",
       "<table border=\"1\" class=\"dataframe\">\n",
       "  <thead>\n",
       "    <tr style=\"text-align: right;\">\n",
       "      <th></th>\n",
       "      <th>Salaire</th>\n",
       "      <th>Type de poste</th>\n",
       "    </tr>\n",
       "  </thead>\n",
       "  <tbody>\n",
       "    <tr>\n",
       "      <th>0</th>\n",
       "      <td>[De 630 € à 1 260 € par mois, ]</td>\n",
       "      <td>[Part-time, ]</td>\n",
       "    </tr>\n",
       "  </tbody>\n",
       "</table>\n",
       "</div>"
      ],
      "text/plain": [
       "                           Salaire  Type de poste\n",
       "0  [De 630 € à 1 260 € par mois, ]  [Part-time, ]"
      ]
     },
     "execution_count": 43,
     "metadata": {},
     "output_type": "execute_result"
    }
   ],
   "source": [
    "series = pd.Series(section_elements)\n",
    "series = series[series!='']\n",
    "data = series.to_frame().T\n",
    "data"
   ]
  },
  {
   "cell_type": "code",
   "execution_count": 45,
   "metadata": {},
   "outputs": [
    {
     "data": {
      "text/html": [
       "<div>\n",
       "<style scoped>\n",
       "    .dataframe tbody tr th:only-of-type {\n",
       "        vertical-align: middle;\n",
       "    }\n",
       "\n",
       "    .dataframe tbody tr th {\n",
       "        vertical-align: top;\n",
       "    }\n",
       "\n",
       "    .dataframe thead th {\n",
       "        text-align: right;\n",
       "    }\n",
       "</style>\n",
       "<table border=\"1\" class=\"dataframe\">\n",
       "  <thead>\n",
       "    <tr style=\"text-align: right;\">\n",
       "      <th></th>\n",
       "      <th>poste</th>\n",
       "      <th>entreprise</th>\n",
       "      <th>lieu du poste</th>\n",
       "      <th>Salaire</th>\n",
       "      <th>Type de poste</th>\n",
       "    </tr>\n",
       "  </thead>\n",
       "  <tbody>\n",
       "    <tr>\n",
       "      <th>0</th>\n",
       "      <td>Data Analyst H/F</td>\n",
       "      <td>Peroptyx</td>\n",
       "      <td>Marseille (13)</td>\n",
       "      <td>[De 630 € à 1 260 € par mois, ]</td>\n",
       "      <td>[Part-time, ]</td>\n",
       "    </tr>\n",
       "  </tbody>\n",
       "</table>\n",
       "</div>"
      ],
      "text/plain": [
       "              poste entreprise   lieu du poste  \\\n",
       "0  Data Analyst H/F   Peroptyx  Marseille (13)   \n",
       "\n",
       "                           Salaire  Type de poste  \n",
       "0  [De 630 € à 1 260 € par mois, ]  [Part-time, ]  "
      ]
     },
     "execution_count": 45,
     "metadata": {},
     "output_type": "execute_result"
    }
   ],
   "source": [
    "full_data = pd.concat([data_1,data], axis=1)\n",
    "full_data"
   ]
  },
  {
   "cell_type": "markdown",
   "metadata": {},
   "source": [
    "# recolter toute la donnée sur 1 page"
   ]
  },
  {
   "cell_type": "code",
   "execution_count": 5,
   "metadata": {},
   "outputs": [
    {
     "data": {
      "text/html": [
       "<div>\n",
       "<style scoped>\n",
       "    .dataframe tbody tr th:only-of-type {\n",
       "        vertical-align: middle;\n",
       "    }\n",
       "\n",
       "    .dataframe tbody tr th {\n",
       "        vertical-align: top;\n",
       "    }\n",
       "\n",
       "    .dataframe thead th {\n",
       "        text-align: right;\n",
       "    }\n",
       "</style>\n",
       "<table border=\"1\" class=\"dataframe\">\n",
       "  <thead>\n",
       "    <tr style=\"text-align: right;\">\n",
       "      <th></th>\n",
       "      <th>poste</th>\n",
       "      <th>entreprise</th>\n",
       "      <th>lieu du poste</th>\n",
       "      <th>description</th>\n",
       "      <th>Type de poste</th>\n",
       "      <th>Salaire</th>\n",
       "      <th>Temps de travail</th>\n",
       "    </tr>\n",
       "  </thead>\n",
       "  <tbody>\n",
       "    <tr>\n",
       "      <th>0</th>\n",
       "      <td>Data Analyst H/F</td>\n",
       "      <td>Aterno</td>\n",
       "      <td>Entzheim (67)</td>\n",
       "      <td>\\nActeur de la transition écologique et expert...</td>\n",
       "      <td>[CDI, ]</td>\n",
       "      <td>NaN</td>\n",
       "      <td>NaN</td>\n",
       "    </tr>\n",
       "    <tr>\n",
       "      <th>1</th>\n",
       "      <td>Data Analyst orienté Data Quality F/H</td>\n",
       "      <td>Carrefour</td>\n",
       "      <td>91300 Massy</td>\n",
       "      <td>\\n A propos de l'offre :: \\n  Le saviez-vous ?...</td>\n",
       "      <td>[CDI, , Temps plein, ]</td>\n",
       "      <td>NaN</td>\n",
       "      <td>NaN</td>\n",
       "    </tr>\n",
       "    <tr>\n",
       "      <th>2</th>\n",
       "      <td>Data analyst HPC F/H</td>\n",
       "      <td>Framatome</td>\n",
       "      <td>Montrouge (92)</td>\n",
       "      <td>\\nInformations générales \\n\\n\\n\\nEntité légale...</td>\n",
       "      <td>[CDI, ]</td>\n",
       "      <td>[De 40 000 € à 50 000 € par an, ]</td>\n",
       "      <td>NaN</td>\n",
       "    </tr>\n",
       "    <tr>\n",
       "      <th>3</th>\n",
       "      <td>Alternance Data Analyst</td>\n",
       "      <td>The Nuum Factory</td>\n",
       "      <td>69009 Lyon 9e</td>\n",
       "      <td>The Nuum Factory, école spécialisée dans le nu...</td>\n",
       "      <td>[Alternance, ]</td>\n",
       "      <td>[À partir de 926 € par mois, ]</td>\n",
       "      <td>NaN</td>\n",
       "    </tr>\n",
       "    <tr>\n",
       "      <th>4</th>\n",
       "      <td>Data analyst-Etudes marketing H/F</td>\n",
       "      <td>Harmonie Mutuelle</td>\n",
       "      <td>35000 Rennes</td>\n",
       "      <td>\\nVous êtes en quête d'une nouvelle aventure p...</td>\n",
       "      <td>[CDI, , Temps plein, ]</td>\n",
       "      <td>NaN</td>\n",
       "      <td>NaN</td>\n",
       "    </tr>\n",
       "    <tr>\n",
       "      <th>5</th>\n",
       "      <td>DATA ANALYST (H/F) - CDI - NANTERRE (92)</td>\n",
       "      <td>GAN ASSURANCES</td>\n",
       "      <td>Nanterre (92)</td>\n",
       "      <td>Gan Assurances, filiale du Groupe Groupama, es...</td>\n",
       "      <td>[CDI, ]</td>\n",
       "      <td>NaN</td>\n",
       "      <td>NaN</td>\n",
       "    </tr>\n",
       "    <tr>\n",
       "      <th>6</th>\n",
       "      <td>DATA engineer /analyst (H/F)</td>\n",
       "      <td>Insitoo</td>\n",
       "      <td>Lyon (69)</td>\n",
       "      <td>\\nBasée à Lille, Lyon, Nantes, Grenoble et Bru...</td>\n",
       "      <td>[CDI, ]</td>\n",
       "      <td>NaN</td>\n",
       "      <td>NaN</td>\n",
       "    </tr>\n",
       "    <tr>\n",
       "      <th>7</th>\n",
       "      <td>[VO2 Finance] - Business Analyst Market Data</td>\n",
       "      <td>VO2 Group</td>\n",
       "      <td>Paris (75)</td>\n",
       "      <td>\\nDescriptif du poste \\n\\n Context:\\n\\n Within...</td>\n",
       "      <td>[CDI, , Temps plein, ]</td>\n",
       "      <td>NaN</td>\n",
       "      <td>NaN</td>\n",
       "    </tr>\n",
       "    <tr>\n",
       "      <th>8</th>\n",
       "      <td>Data Analyst Customer Experience - F/H/NB</td>\n",
       "      <td>Cegid</td>\n",
       "      <td>69009 Lyon</td>\n",
       "      <td>\\n Cegid est un leader européen des solutions ...</td>\n",
       "      <td>[CDI, ]</td>\n",
       "      <td>[De 45 000 € à 60 000 € par an, ]</td>\n",
       "      <td>NaN</td>\n",
       "    </tr>\n",
       "    <tr>\n",
       "      <th>9</th>\n",
       "      <td>Data analyste BI / CRM (h/f)</td>\n",
       "      <td>Liebherr-Mining Equipment Colmar SAS</td>\n",
       "      <td>68025 Colmar</td>\n",
       "      <td>\\n\\n\\nVous assurez le rôle de Business Analyst...</td>\n",
       "      <td>[Temps plein, ]</td>\n",
       "      <td>NaN</td>\n",
       "      <td>NaN</td>\n",
       "    </tr>\n",
       "    <tr>\n",
       "      <th>10</th>\n",
       "      <td>Data Engineer / Data Analyst / Data Scientist ...</td>\n",
       "      <td>Institut F2I</td>\n",
       "      <td>Paris (75)</td>\n",
       "      <td>Notre école recherche activement pour le compt...</td>\n",
       "      <td>[Alternance, ]</td>\n",
       "      <td>[De 1 200 € à 1 900 € par mois, ]</td>\n",
       "      <td>[Période de travail de 8 Heures, , Travail en ...</td>\n",
       "    </tr>\n",
       "    <tr>\n",
       "      <th>11</th>\n",
       "      <td>Data Analyst H/F</td>\n",
       "      <td>IKIGAÏ</td>\n",
       "      <td>Lyon (69)</td>\n",
       "      <td>\\nRecueil et extraction des sources de données...</td>\n",
       "      <td>[CDI, , Temps plein, ]</td>\n",
       "      <td>[De 30 000 € à 43 000 € par an, ]</td>\n",
       "      <td>[Du lundi au vendredi, ]</td>\n",
       "    </tr>\n",
       "    <tr>\n",
       "      <th>12</th>\n",
       "      <td>Data Analyst Confirmé(e) F/H</td>\n",
       "      <td>evoteo</td>\n",
       "      <td>69007 Lyon 7e</td>\n",
       "      <td>\\nDans le cadre de notre croissance et pour ré...</td>\n",
       "      <td>[CDI, , Temps plein, ]</td>\n",
       "      <td>[De 37 000 € à 46 000 € par an, ]</td>\n",
       "      <td>NaN</td>\n",
       "    </tr>\n",
       "    <tr>\n",
       "      <th>13</th>\n",
       "      <td>Alternance - Data analyst H/F</td>\n",
       "      <td>Colas</td>\n",
       "      <td>75015 Paris</td>\n",
       "      <td>\\n\\n\\nMISSIONS\\n\\n\\n\\n Colas, filiale du group...</td>\n",
       "      <td>[Alternance, , Contrat d'apprentissage, ]</td>\n",
       "      <td>NaN</td>\n",
       "      <td>NaN</td>\n",
       "    </tr>\n",
       "    <tr>\n",
       "      <th>14</th>\n",
       "      <td>Data Analyst et Simulation H/F</td>\n",
       "      <td>Activus Group</td>\n",
       "      <td>Lyon (69)</td>\n",
       "      <td>Activus Group recherche un Data Analyst et Sim...</td>\n",
       "      <td>[CDI, , Temps plein, ]</td>\n",
       "      <td>[De 38 000 € à 46 000 € par an, ]</td>\n",
       "      <td>[Période de travail de 8 Heures, , Flextime, ,...</td>\n",
       "    </tr>\n",
       "  </tbody>\n",
       "</table>\n",
       "</div>"
      ],
      "text/plain": [
       "                                                poste  \\\n",
       "0                                    Data Analyst H/F   \n",
       "1               Data Analyst orienté Data Quality F/H   \n",
       "2                                Data analyst HPC F/H   \n",
       "3                             Alternance Data Analyst   \n",
       "4                   Data analyst-Etudes marketing H/F   \n",
       "5            DATA ANALYST (H/F) - CDI - NANTERRE (92)   \n",
       "6                        DATA engineer /analyst (H/F)   \n",
       "7        [VO2 Finance] - Business Analyst Market Data   \n",
       "8           Data Analyst Customer Experience - F/H/NB   \n",
       "9                        Data analyste BI / CRM (h/f)   \n",
       "10  Data Engineer / Data Analyst / Data Scientist ...   \n",
       "11                                   Data Analyst H/F   \n",
       "12                       Data Analyst Confirmé(e) F/H   \n",
       "13                      Alternance - Data analyst H/F   \n",
       "14                     Data Analyst et Simulation H/F   \n",
       "\n",
       "                              entreprise   lieu du poste  \\\n",
       "0                                 Aterno   Entzheim (67)   \n",
       "1                              Carrefour     91300 Massy   \n",
       "2                              Framatome  Montrouge (92)   \n",
       "3                       The Nuum Factory   69009 Lyon 9e   \n",
       "4                      Harmonie Mutuelle    35000 Rennes   \n",
       "5                         GAN ASSURANCES   Nanterre (92)   \n",
       "6                                Insitoo       Lyon (69)   \n",
       "7                              VO2 Group      Paris (75)   \n",
       "8                                  Cegid      69009 Lyon   \n",
       "9   Liebherr-Mining Equipment Colmar SAS    68025 Colmar   \n",
       "10                          Institut F2I      Paris (75)   \n",
       "11                                IKIGAÏ       Lyon (69)   \n",
       "12                                evoteo   69007 Lyon 7e   \n",
       "13                                 Colas     75015 Paris   \n",
       "14                         Activus Group       Lyon (69)   \n",
       "\n",
       "                                          description  \\\n",
       "0   \\nActeur de la transition écologique et expert...   \n",
       "1   \\n A propos de l'offre :: \\n  Le saviez-vous ?...   \n",
       "2   \\nInformations générales \\n\\n\\n\\nEntité légale...   \n",
       "3   The Nuum Factory, école spécialisée dans le nu...   \n",
       "4   \\nVous êtes en quête d'une nouvelle aventure p...   \n",
       "5   Gan Assurances, filiale du Groupe Groupama, es...   \n",
       "6   \\nBasée à Lille, Lyon, Nantes, Grenoble et Bru...   \n",
       "7   \\nDescriptif du poste \\n\\n Context:\\n\\n Within...   \n",
       "8   \\n Cegid est un leader européen des solutions ...   \n",
       "9   \\n\\n\\nVous assurez le rôle de Business Analyst...   \n",
       "10  Notre école recherche activement pour le compt...   \n",
       "11  \\nRecueil et extraction des sources de données...   \n",
       "12  \\nDans le cadre de notre croissance et pour ré...   \n",
       "13  \\n\\n\\nMISSIONS\\n\\n\\n\\n Colas, filiale du group...   \n",
       "14  Activus Group recherche un Data Analyst et Sim...   \n",
       "\n",
       "                                Type de poste  \\\n",
       "0                                     [CDI, ]   \n",
       "1                      [CDI, , Temps plein, ]   \n",
       "2                                     [CDI, ]   \n",
       "3                              [Alternance, ]   \n",
       "4                      [CDI, , Temps plein, ]   \n",
       "5                                     [CDI, ]   \n",
       "6                                     [CDI, ]   \n",
       "7                      [CDI, , Temps plein, ]   \n",
       "8                                     [CDI, ]   \n",
       "9                             [Temps plein, ]   \n",
       "10                             [Alternance, ]   \n",
       "11                     [CDI, , Temps plein, ]   \n",
       "12                     [CDI, , Temps plein, ]   \n",
       "13  [Alternance, , Contrat d'apprentissage, ]   \n",
       "14                     [CDI, , Temps plein, ]   \n",
       "\n",
       "                              Salaire  \\\n",
       "0                                 NaN   \n",
       "1                                 NaN   \n",
       "2   [De 40 000 € à 50 000 € par an, ]   \n",
       "3      [À partir de 926 € par mois, ]   \n",
       "4                                 NaN   \n",
       "5                                 NaN   \n",
       "6                                 NaN   \n",
       "7                                 NaN   \n",
       "8   [De 45 000 € à 60 000 € par an, ]   \n",
       "9                                 NaN   \n",
       "10  [De 1 200 € à 1 900 € par mois, ]   \n",
       "11  [De 30 000 € à 43 000 € par an, ]   \n",
       "12  [De 37 000 € à 46 000 € par an, ]   \n",
       "13                                NaN   \n",
       "14  [De 38 000 € à 46 000 € par an, ]   \n",
       "\n",
       "                                     Temps de travail  \n",
       "0                                                 NaN  \n",
       "1                                                 NaN  \n",
       "2                                                 NaN  \n",
       "3                                                 NaN  \n",
       "4                                                 NaN  \n",
       "5                                                 NaN  \n",
       "6                                                 NaN  \n",
       "7                                                 NaN  \n",
       "8                                                 NaN  \n",
       "9                                                 NaN  \n",
       "10  [Période de travail de 8 Heures, , Travail en ...  \n",
       "11                           [Du lundi au vendredi, ]  \n",
       "12                                                NaN  \n",
       "13                                                NaN  \n",
       "14  [Période de travail de 8 Heures, , Flextime, ,...  "
      ]
     },
     "execution_count": 5,
     "metadata": {},
     "output_type": "execute_result"
    }
   ],
   "source": [
    "from selenium import webdriver\n",
    "from selenium.webdriver.chrome.service import Service\n",
    "from selenium.webdriver.common.by import By \n",
    "from selenium.webdriver.common.keys import Keys\n",
    "from selenium.webdriver.support.ui import WebDriverWait\n",
    "from selenium.webdriver.support import expected_conditions as EC\n",
    "from selenium.common.exceptions import TimeoutException\n",
    "import time\n",
    "import random\n",
    "import numpy as np\n",
    "\n",
    "### human like interaction ##\n",
    "def random_delay():\n",
    "    time.sleep(random.uniform(2, 5))\n",
    "\n",
    "# Function to simulate typing\n",
    "def simulate_typing(element, text):\n",
    "    for char in text:\n",
    "        element.send_keys(char)\n",
    "        time.sleep(random.uniform(0.7, 1))\n",
    "\n",
    "\n",
    "### initialisation du driver chrome  ###\n",
    "path = '/Users/jaroldmartinez/Documents/CODE/chromedriver'\n",
    "service = Service(executable_path=path)\n",
    "driver = webdriver.Chrome(service = service)\n",
    "\n",
    "driver.get('https://fr.indeed.com/')\n",
    "\n",
    "search = driver.find_element(By.NAME,'q')   # on accède à la barre de recherche\n",
    "search.send_keys('data analyst')            # on met la recherche qu'on veut (data analyst)\n",
    "\n",
    "                                            \n",
    "location = driver.find_element(By.NAME,'l')\n",
    "location.send_keys('france')\n",
    "# simulate_typing(location, 'france')\n",
    "location.send_keys(Keys.RETURN) # Keys.RETURN == bouton Enter\n",
    "\n",
    "##### maintenant nous sommes dans la page d'offre d'emploi pour data analyst\n",
    "\n",
    "soup = BeautifulSoup(driver.page_source)\n",
    "\n",
    "job_page = soup.findAll(class_='css-5lfssm eu4oa1w0') # cette classe correspond aux annonces\n",
    "\n",
    "list_of_links=[]\n",
    "for job in job_page:\n",
    "    j = job.find_all(class_='jcs-JobTitle css-jspxzf eu4oa1w0')\n",
    "    # dans chacune de ces annonces on cherche un autre classe où nous pouvons trouver les liens pour chaque annonce\n",
    "    # print(j)\n",
    "    for a in j:\n",
    "        list_of_links.append(a['href'])\n",
    "        # le href contient les liens des annonces (individuelle)\n",
    "# list_of_links\n",
    "\n",
    "# créer une liste vide pour stocker les DataFrames\n",
    "data_frames = []\n",
    "\n",
    "random_delay()\n",
    "\n",
    "for url in list_of_links:\n",
    "    driver.get('https://fr.indeed.com/'+url)\n",
    "    \n",
    "    random_delay()\n",
    "    soup_1 = BeautifulSoup(driver.page_source)\n",
    "    \n",
    "\n",
    "    ########## je cherche le titre de l'annonce #############\n",
    "    \n",
    "    job_title = soup_1.find(class_='jobsearch-JobInfoHeader-title css-1b4cr5z e1tiznh50')\n",
    "    job_title_text = job_title.text if job_title is not None else np.nan\n",
    "    # ########## le nom de l'entreprise #############\n",
    "    random_delay()\n",
    "    company_name = soup_1.find(class_='css-1saizt3 e1wnkr790')\n",
    "    company_name_text = company_name.text if company_name is not None else np.nan\n",
    "\n",
    "    # ########## lieu du poste #############\n",
    "    random_delay()\n",
    "    localisation = soup_1.find(class_='css-waniwe eu4oa1w0')\n",
    "    lacalisation_text = localisation.text if localisation is not None else np.nan\n",
    "\n",
    "    #             # pour le contenu de 'information sur le profil' où nous trouvons les compétences / formation / type de poste / temps de travail ..\n",
    "    #             # on a des class similaire pour chaque info , que ce soit les compétences ou la formation, quand o,n cherche la classe cela nous renvoie le\n",
    "    #             # premier qui apparait... \n",
    "    #             # il faudrait trouver tout les contenaires puis afficher leurs .text. et ce serait en focntion de ce .text qu'on pourrait trier l'information\n",
    "\n",
    "    # ########## compétences #############\n",
    "    random_delay()\n",
    "    informations = soup_1.findAll(class_='js-match-insights-provider-36vfsm eu4oa1w0')\n",
    "\n",
    "    ############ description du poste \n",
    "    description = soup_1.find(class_='jobsearch-jobDescriptionText jobsearch-JobComponent-description css-kqe8pq eu4oa1w0')\n",
    "    descrition_text = description.text if description is not None else np.nan\n",
    "\n",
    "    # # info = informations.findAll(class_='js-match-insights-provider-11n8e9a e1tiznh50') # celui ci renvoie seulement la ligne contenant le h3 mais pas son arborescence ( trouver une classe plus haute ??)\n",
    "\n",
    "    section={}\n",
    "    for idx,info in enumerate(informations):\n",
    "        j = info.findAll(class_='js-match-insights-provider-e6s05i eu4oa1w0')\n",
    "        section_elements={}\n",
    "        for f in j:\n",
    "            random_delay()\n",
    "            h3_element = f.findAll('h3',class_='js-match-insights-provider-11n8e9a e1tiznh50')  # essayer de rentrer dans le h3 pour n'avoir que le titre\n",
    "            res = f.findAll(class_='js-match-insights-provider-tvvxwd ecydgvn1')\n",
    "            for h3 in h3_element:\n",
    "                categorie = h3.text\n",
    "                for l in res:\n",
    "                    section_elements.setdefault(categorie ,[]).append(l.text)\n",
    "\n",
    "    # # prendre les informations récoltés et les insérés dans un dataframe\n",
    "    dicto = {'poste':job_title.text,'entreprise':company_name.text,'lieu du poste':localisation.text,'description':description.text}\n",
    "    full = dicto | section_elements \n",
    "\n",
    "    data_1 = pd.DataFrame(dicto, index=[0])\n",
    "\n",
    "    series = pd.Series(section_elements)\n",
    "    series = series[series!='']\n",
    "    data_2 = series.to_frame().T\n",
    "    data = pd.concat([data_1, data_2], axis=1)\n",
    "    data_frames.append(data)\n",
    "\n",
    "\n",
    "full_data = pd.concat(data_frames, ignore_index=True)   \n",
    "full_data\n",
    "\n",
    "# print(job_title.text,'\\n',company_name.text,'\\n',localisation.text,'\\n',section_elements)\n"
   ]
  },
  {
   "cell_type": "markdown",
   "metadata": {},
   "source": [
    "# recuperer les liens pour toutes les pages"
   ]
  },
  {
   "cell_type": "code",
   "execution_count": 48,
   "metadata": {},
   "outputs": [
    {
     "name": "stderr",
     "output_type": "stream",
     "text": [
      "python(72424) MallocStackLogging: can't turn off malloc stack logging because it was not enabled.\n"
     ]
    },
    {
     "ename": "NoSuchElementException",
     "evalue": "Message: no such element: Unable to locate element: {\"method\":\"css selector\",\"selector\":\".css-akkh0a e8ju0x50\"}\n  (Session info: chrome=125.0.6422.142); For documentation on this error, please visit: https://www.selenium.dev/documentation/webdriver/troubleshooting/errors#no-such-element-exception\nStacktrace:\n0   chromedriver                        0x00000001049676b8 chromedriver + 6149816\n1   chromedriver                        0x000000010495ecda chromedriver + 6114522\n2   chromedriver                        0x00000001043ebd5c chromedriver + 400732\n3   chromedriver                        0x0000000104438aa5 chromedriver + 715429\n4   chromedriver                        0x0000000104438bf1 chromedriver + 715761\n5   chromedriver                        0x000000010447ddd4 chromedriver + 998868\n6   chromedriver                        0x000000010445bcdd chromedriver + 859357\n7   chromedriver                        0x000000010447b0db chromedriver + 987355\n8   chromedriver                        0x000000010445ba53 chromedriver + 858707\n9   chromedriver                        0x000000010442b6d5 chromedriver + 661205\n10  chromedriver                        0x000000010442bf6e chromedriver + 663406\n11  chromedriver                        0x0000000104928cf0 chromedriver + 5893360\n12  chromedriver                        0x000000010492e4bc chromedriver + 5915836\n13  chromedriver                        0x000000010490a8b4 chromedriver + 5769396\n14  chromedriver                        0x000000010492ef89 chromedriver + 5918601\n15  chromedriver                        0x00000001048fbec4 chromedriver + 5709508\n16  chromedriver                        0x000000010494f008 chromedriver + 6049800\n17  chromedriver                        0x000000010494f1c7 chromedriver + 6050247\n18  chromedriver                        0x000000010495e88e chromedriver + 6113422\n19  libsystem_pthread.dylib             0x00007ff80bf2a18b _pthread_start + 99\n20  libsystem_pthread.dylib             0x00007ff80bf25ae3 thread_start + 15\n",
     "output_type": "error",
     "traceback": [
      "\u001b[0;31m---------------------------------------------------------------------------\u001b[0m",
      "\u001b[0;31mNoSuchElementException\u001b[0m                    Traceback (most recent call last)",
      "Cell \u001b[0;32mIn[48], line 39\u001b[0m\n\u001b[1;32m     37\u001b[0m     pages \u001b[38;5;241m=\u001b[39m soup\u001b[38;5;241m.\u001b[39mfind(\u001b[38;5;124m'\u001b[39m\u001b[38;5;124ma\u001b[39m\u001b[38;5;124m'\u001b[39m,class_\u001b[38;5;241m=\u001b[39m\u001b[38;5;124m'\u001b[39m\u001b[38;5;124mcss-akkh0a e8ju0x50\u001b[39m\u001b[38;5;124m'\u001b[39m)\n\u001b[1;32m     38\u001b[0m     \u001b[38;5;28;01mif\u001b[39;00m pages:\n\u001b[0;32m---> 39\u001b[0m         \u001b[43mdriver\u001b[49m\u001b[38;5;241;43m.\u001b[39;49m\u001b[43mfind_element\u001b[49m\u001b[43m(\u001b[49m\u001b[43mBy\u001b[49m\u001b[38;5;241;43m.\u001b[39;49m\u001b[43mCLASS_NAME\u001b[49m\u001b[43m,\u001b[49m\u001b[38;5;124;43m'\u001b[39;49m\u001b[38;5;124;43mcss-akkh0a e8ju0x50\u001b[39;49m\u001b[38;5;124;43m'\u001b[39;49m\u001b[43m)\u001b[49m\u001b[38;5;241m.\u001b[39mclick()\n\u001b[1;32m     40\u001b[0m         time\u001b[38;5;241m.\u001b[39msleep(\u001b[38;5;241m10\u001b[39m)\n\u001b[1;32m     41\u001b[0m         \u001b[38;5;66;03m# soup = BeautifulSoup(driver.page_source, 'html.parser')\u001b[39;00m\n\u001b[1;32m     42\u001b[0m         \u001b[38;5;66;03m# url = pages['href']\u001b[39;00m\n\u001b[1;32m     43\u001b[0m         \u001b[38;5;66;03m# list_page.append(url)\u001b[39;00m\n\u001b[0;32m   (...)\u001b[0m\n\u001b[1;32m     55\u001b[0m \n\u001b[1;32m     56\u001b[0m \u001b[38;5;66;03m# link = pages.find()\u001b[39;00m\n",
      "File \u001b[0;32m~/miniconda3/lib/python3.11/site-packages/selenium/webdriver/remote/webdriver.py:741\u001b[0m, in \u001b[0;36mWebDriver.find_element\u001b[0;34m(self, by, value)\u001b[0m\n\u001b[1;32m    738\u001b[0m     by \u001b[38;5;241m=\u001b[39m By\u001b[38;5;241m.\u001b[39mCSS_SELECTOR\n\u001b[1;32m    739\u001b[0m     value \u001b[38;5;241m=\u001b[39m \u001b[38;5;124mf\u001b[39m\u001b[38;5;124m'\u001b[39m\u001b[38;5;124m[name=\u001b[39m\u001b[38;5;124m\"\u001b[39m\u001b[38;5;132;01m{\u001b[39;00mvalue\u001b[38;5;132;01m}\u001b[39;00m\u001b[38;5;124m\"\u001b[39m\u001b[38;5;124m]\u001b[39m\u001b[38;5;124m'\u001b[39m\n\u001b[0;32m--> 741\u001b[0m \u001b[38;5;28;01mreturn\u001b[39;00m \u001b[38;5;28;43mself\u001b[39;49m\u001b[38;5;241;43m.\u001b[39;49m\u001b[43mexecute\u001b[49m\u001b[43m(\u001b[49m\u001b[43mCommand\u001b[49m\u001b[38;5;241;43m.\u001b[39;49m\u001b[43mFIND_ELEMENT\u001b[49m\u001b[43m,\u001b[49m\u001b[43m \u001b[49m\u001b[43m{\u001b[49m\u001b[38;5;124;43m\"\u001b[39;49m\u001b[38;5;124;43musing\u001b[39;49m\u001b[38;5;124;43m\"\u001b[39;49m\u001b[43m:\u001b[49m\u001b[43m \u001b[49m\u001b[43mby\u001b[49m\u001b[43m,\u001b[49m\u001b[43m \u001b[49m\u001b[38;5;124;43m\"\u001b[39;49m\u001b[38;5;124;43mvalue\u001b[39;49m\u001b[38;5;124;43m\"\u001b[39;49m\u001b[43m:\u001b[49m\u001b[43m \u001b[49m\u001b[43mvalue\u001b[49m\u001b[43m}\u001b[49m\u001b[43m)\u001b[49m[\u001b[38;5;124m\"\u001b[39m\u001b[38;5;124mvalue\u001b[39m\u001b[38;5;124m\"\u001b[39m]\n",
      "File \u001b[0;32m~/miniconda3/lib/python3.11/site-packages/selenium/webdriver/remote/webdriver.py:347\u001b[0m, in \u001b[0;36mWebDriver.execute\u001b[0;34m(self, driver_command, params)\u001b[0m\n\u001b[1;32m    345\u001b[0m response \u001b[38;5;241m=\u001b[39m \u001b[38;5;28mself\u001b[39m\u001b[38;5;241m.\u001b[39mcommand_executor\u001b[38;5;241m.\u001b[39mexecute(driver_command, params)\n\u001b[1;32m    346\u001b[0m \u001b[38;5;28;01mif\u001b[39;00m response:\n\u001b[0;32m--> 347\u001b[0m     \u001b[38;5;28;43mself\u001b[39;49m\u001b[38;5;241;43m.\u001b[39;49m\u001b[43merror_handler\u001b[49m\u001b[38;5;241;43m.\u001b[39;49m\u001b[43mcheck_response\u001b[49m\u001b[43m(\u001b[49m\u001b[43mresponse\u001b[49m\u001b[43m)\u001b[49m\n\u001b[1;32m    348\u001b[0m     response[\u001b[38;5;124m\"\u001b[39m\u001b[38;5;124mvalue\u001b[39m\u001b[38;5;124m\"\u001b[39m] \u001b[38;5;241m=\u001b[39m \u001b[38;5;28mself\u001b[39m\u001b[38;5;241m.\u001b[39m_unwrap_value(response\u001b[38;5;241m.\u001b[39mget(\u001b[38;5;124m\"\u001b[39m\u001b[38;5;124mvalue\u001b[39m\u001b[38;5;124m\"\u001b[39m, \u001b[38;5;28;01mNone\u001b[39;00m))\n\u001b[1;32m    349\u001b[0m     \u001b[38;5;28;01mreturn\u001b[39;00m response\n",
      "File \u001b[0;32m~/miniconda3/lib/python3.11/site-packages/selenium/webdriver/remote/errorhandler.py:229\u001b[0m, in \u001b[0;36mErrorHandler.check_response\u001b[0;34m(self, response)\u001b[0m\n\u001b[1;32m    227\u001b[0m         alert_text \u001b[38;5;241m=\u001b[39m value[\u001b[38;5;124m\"\u001b[39m\u001b[38;5;124malert\u001b[39m\u001b[38;5;124m\"\u001b[39m]\u001b[38;5;241m.\u001b[39mget(\u001b[38;5;124m\"\u001b[39m\u001b[38;5;124mtext\u001b[39m\u001b[38;5;124m\"\u001b[39m)\n\u001b[1;32m    228\u001b[0m     \u001b[38;5;28;01mraise\u001b[39;00m exception_class(message, screen, stacktrace, alert_text)  \u001b[38;5;66;03m# type: ignore[call-arg]  # mypy is not smart enough here\u001b[39;00m\n\u001b[0;32m--> 229\u001b[0m \u001b[38;5;28;01mraise\u001b[39;00m exception_class(message, screen, stacktrace)\n",
      "\u001b[0;31mNoSuchElementException\u001b[0m: Message: no such element: Unable to locate element: {\"method\":\"css selector\",\"selector\":\".css-akkh0a e8ju0x50\"}\n  (Session info: chrome=125.0.6422.142); For documentation on this error, please visit: https://www.selenium.dev/documentation/webdriver/troubleshooting/errors#no-such-element-exception\nStacktrace:\n0   chromedriver                        0x00000001049676b8 chromedriver + 6149816\n1   chromedriver                        0x000000010495ecda chromedriver + 6114522\n2   chromedriver                        0x00000001043ebd5c chromedriver + 400732\n3   chromedriver                        0x0000000104438aa5 chromedriver + 715429\n4   chromedriver                        0x0000000104438bf1 chromedriver + 715761\n5   chromedriver                        0x000000010447ddd4 chromedriver + 998868\n6   chromedriver                        0x000000010445bcdd chromedriver + 859357\n7   chromedriver                        0x000000010447b0db chromedriver + 987355\n8   chromedriver                        0x000000010445ba53 chromedriver + 858707\n9   chromedriver                        0x000000010442b6d5 chromedriver + 661205\n10  chromedriver                        0x000000010442bf6e chromedriver + 663406\n11  chromedriver                        0x0000000104928cf0 chromedriver + 5893360\n12  chromedriver                        0x000000010492e4bc chromedriver + 5915836\n13  chromedriver                        0x000000010490a8b4 chromedriver + 5769396\n14  chromedriver                        0x000000010492ef89 chromedriver + 5918601\n15  chromedriver                        0x00000001048fbec4 chromedriver + 5709508\n16  chromedriver                        0x000000010494f008 chromedriver + 6049800\n17  chromedriver                        0x000000010494f1c7 chromedriver + 6050247\n18  chromedriver                        0x000000010495e88e chromedriver + 6113422\n19  libsystem_pthread.dylib             0x00007ff80bf2a18b _pthread_start + 99\n20  libsystem_pthread.dylib             0x00007ff80bf25ae3 thread_start + 15\n"
     ]
    }
   ],
   "source": [
    "from selenium import webdriver\n",
    "from selenium.webdriver.chrome.service import Service\n",
    "from selenium.webdriver.common.by import By \n",
    "from selenium.webdriver.common.keys import Keys\n",
    "from selenium.webdriver.support.ui import WebDriverWait\n",
    "from selenium.webdriver.support import expected_conditions as EC\n",
    "from selenium.common.exceptions import TimeoutException\n",
    "import time\n",
    "import random\n",
    "import numpy as np\n",
    "\n",
    "### pause to simulate human like interaction ##\n",
    "def random_delay():\n",
    "    time.sleep(random.uniform(2, 5))\n",
    "\n",
    "\n",
    "### initialisation du driver chrome  ###\n",
    "path = '/Users/jaroldmartinez/Documents/CODE/chromedriver'\n",
    "service = Service(executable_path=path)\n",
    "driver = webdriver.Chrome(service = service)\n",
    "\n",
    "driver.get('https://fr.indeed.com/')\n",
    "\n",
    "search = driver.find_element(By.NAME,'q')   # on accède à la barre de recherche\n",
    "search.send_keys('data analyst')            # on met la recherche qu'on veut (data analyst)\n",
    "\n",
    "                                            \n",
    "location = driver.find_element(By.NAME,'l')\n",
    "location.send_keys('france')\n",
    "# simulate_typing(location, 'france')\n",
    "location.send_keys(Keys.RETURN) \n",
    "\n",
    "soup = BeautifulSoup(driver.page_source, 'html.parser')\n",
    "\n",
    "list_page = []\n",
    "for i in range(2):\n",
    "    pages = soup.find('a',class_='css-akkh0a e8ju0x50')\n",
    "    if pages:\n",
    "        driver.find_element(By.CLASS_NAME,'css-akkh0a e8ju0x50').click()\n",
    "        time.sleep(10)\n",
    "        # soup = BeautifulSoup(driver.page_source, 'html.parser')\n",
    "        # url = pages['href']\n",
    "        # list_page.append(url)\n",
    "\n",
    "\n",
    "\n",
    "\n",
    "# for page in pages:\n",
    "#     link = page.find('a')\n",
    "#     print(link)\n",
    "#     if link:\n",
    "#         links.append(link['href'])\n",
    "\n",
    "# print(links\n",
    "\n",
    "# link = pages.find()"
   ]
  },
  {
   "cell_type": "code",
   "execution_count": null,
   "metadata": {},
   "outputs": [],
   "source": []
  }
 ],
 "metadata": {
  "kernelspec": {
   "display_name": "base",
   "language": "python",
   "name": "python3"
  },
  "language_info": {
   "codemirror_mode": {
    "name": "ipython",
    "version": 3
   },
   "file_extension": ".py",
   "mimetype": "text/x-python",
   "name": "python",
   "nbconvert_exporter": "python",
   "pygments_lexer": "ipython3",
   "version": "3.11.5"
  }
 },
 "nbformat": 4,
 "nbformat_minor": 2
}
